{
 "cells": [
  {
   "cell_type": "code",
   "execution_count": 2,
   "metadata": {},
   "outputs": [],
   "source": [
    "import gspread\n",
    "import numpy as np\n",
    "from oauth2client.service_account import ServiceAccountCredentials\n",
    "\n",
    "def open_workbook(ws_name):\n",
    "# use creds to create a client to interact with the Google Drive API\n",
    "    scope = ['https://spreadsheets.google.com/feeds',\n",
    "            'https://www.googleapis.com/auth/drive']\n",
    "    creds = ServiceAccountCredentials.from_json_keyfile_name('client_secret.json', scope)\n",
    "    client = gspread.authorize(creds)\n",
    "\n",
    "# Find a workbook by name and open the first sheet\n",
    "# Make sure you use the right name here.\n",
    "    return client.open(ws_name)\n",
    "\n",
    "def open_worksheet(ws_name, shtname):\n",
    "    wkbook = open_workbook(ws_name)\n",
    "    return wkbook.worksheet(shtname)\n",
    "\n",
    "def write_gdoc(data, ws_name, sht_name, row, col):\n",
    "    wksht = open_worksheet(ws_name, sht_name)\n",
    "    \n",
    "    for i in range(len(data)):\n",
    "        for j in range(len(data)):\n",
    "            wksht.update_cell(row+i, col+j, data[i][j])\n",
    "            \n",
    "def read_gdoc_range(ws_name,sht_name=\"Sheet1\",startrow=1,startcol=1, endrow=1, endcol=1):\n",
    "    wksht = open_worksheet(ws_name, sht_name)\n",
    "    r = wksht.range(startrow, startcol, endrow, endcol)\n",
    "    values = []\n",
    "    \n",
    "    for i in r:\n",
    "        values.append(i.value)\n",
    "        \n",
    "    values = np.array(values)\n",
    "    values.resize(endrow-startrow+1, endcol-startcol+1)\n",
    "    \n",
    "    return values\n",
    "\n",
    "def newest_time(ws_name, sheet):\n",
    "    wksht = open_worksheet(ws_name, sheet)\n",
    "    return wksht.updated\n",
    "\n",
    "def write_gdoc_cell(data, ws_name, sht_name, row, col):\n",
    "    wksht = open_worksheet(ws_name, sht_name)\n",
    "    \n",
    "    wksht.update_cell(row,col,data)"
   ]
  },
  {
   "cell_type": "code",
   "execution_count": 3,
   "metadata": {},
   "outputs": [],
   "source": [
    "def main():\n",
    "    ws_name = \"Laura\"\n",
    "    sht_name = [\"Goals\", \"Test\"]\n",
    "\n",
    "    data = read_gdoc_range(ws_name,sht_name[0], 1,1,7,3)\n",
    "    #write_gdoc(data,ws_name, sht_name[1], 1,1)\n",
    "    print(new(\"NY Mini 2017 - 1st Round\", \"Court M3\") < new(\"NY Mini 2017 - 1st Round\", \"Court M1\"))"
   ]
  },
  {
   "cell_type": "code",
   "execution_count": null,
   "metadata": {
    "collapsed": true
   },
   "outputs": [],
   "source": []
  }
 ],
 "metadata": {
  "anaconda-cloud": {},
  "kernelspec": {
   "display_name": "Python 3",
   "language": "python",
   "name": "python3"
  },
  "language_info": {
   "codemirror_mode": {
    "name": "ipython",
    "version": 3
   },
   "file_extension": ".py",
   "mimetype": "text/x-python",
   "name": "python",
   "nbconvert_exporter": "python",
   "pygments_lexer": "ipython3",
   "version": "3.6.6"
  }
 },
 "nbformat": 4,
 "nbformat_minor": 1
}
