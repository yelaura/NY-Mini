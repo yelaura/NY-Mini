{
 "cells": [
  {
   "cell_type": "markdown",
   "metadata": {},
   "source": [
    "Day 1 Output:\n",
    "\n",
    "Determine which teams go into which pools\n",
    "Write the results to the pool masters\n",
    "\n",
    "Men's: \n",
    "\n",
    "Top 2 teams from each pool go into Gold, and best 2 teams of 3rd places (Total: 20, 5 teams x 4 pools)\n",
    "Next 15 teams go into Silver (Total: 15, 5 teams x 3 pools)\n",
    "Next 10 go into Bronze (2 pools x 5 teams)\n",
    "\n",
    "Women's: (same)"
   ]
  },
  {
   "cell_type": "code",
   "execution_count": 38,
   "metadata": {},
   "outputs": [],
   "source": [
    "# function to finalize pools for 2nd Round\n",
    "# input: list of team names (sorted by ranking), desired shape\n",
    "\n",
    "import numpy as np\n",
    "import pandas as pd\n",
    "\n",
    "# Retrieve pool rankings (Court names are in M1, W1,...)\n",
    "# num_pools = 9\n",
    "# m_pools = ['M' + str(i) for i in range(1,num_pools)]\n",
    "# f_pools = ['W' + str(i) for i in range(1,num_pools)]\n",
    "\n",
    "m_pools = ['01', '02', '03', '04', '07', '08', '12', '13', '14']\n",
    "f_pools = ['05', '06', '09', '10', '11', '15', '16', '17', '18']\n",
    "\n",
    "input_ws = [\"NY Mini 2018 - 1st Round\"]\n",
    "output_ws = [\"NY Mini 2018 - Day 2 Pools\"]"
   ]
  },
  {
   "cell_type": "markdown",
   "metadata": {},
   "source": [
    "Run code below to populate Day 2 Men's Gold, Silver, Bronze Brackets (mens_raw for overall)"
   ]
  },
  {
   "cell_type": "code",
   "execution_count": 39,
   "metadata": {},
   "outputs": [],
   "source": [
    "# Data Frame Construction: (Need this info)\n",
    "# Pool #, Placement, Team Name, Games (Ratio), Points (Ratio)\n",
    "\n",
    "import pandas as pd\n",
    "from ReadWriteGDocs import write_gdoc, read_gdoc_range, write_gdoc_cell\n",
    "\n",
    "womens_raw = pd.DataFrame()\n",
    "c=['Ranking', 'Team', 'Games', 'Points']\n",
    "\n",
    "#Grab data from GDOC\n",
    "for i in f_pools:\n",
    "    df=pd.DataFrame(read_gdoc_range(input_ws[0], \"CT\" + i + \" (W)\", 27, 2, 31,5), columns=c)\n",
    "    df.insert(0, 'Pool', i)\n",
    "    womens_raw=womens_raw.append(df)\n",
    "\n",
    "#Convert dtype so the sorting is accurate\n",
    "    \n",
    "womens_raw['Games']=pd.DataFrame(womens_raw['Games'], dtype=int)\n",
    "womens_raw['Points']=pd.DataFrame(womens_raw['Points'], dtype=int)\n",
    "womens_raw['Ranking']=pd.DataFrame(womens_raw['Ranking'], dtype=int)\n",
    "womens_raw=womens_raw.sort_values(['Ranking', 'Games', 'Points'], ascending=[True, False, False])\n",
    "womens_raw=womens_raw.reset_index(drop=True)\n",
    "\n",
    "# Form the Gold, Silver Bronze teams\n",
    "\n",
    "f_gold = womens_raw.iloc[range(0,18)]\n",
    "f_silver = womens_raw.iloc[range(18,36)]\n",
    "f_bronze = womens_raw.iloc[range(36,len(womens_raw))]\n",
    "\n",
    "f_gold.reset_index(drop=True)\n",
    "f_silver=f_silver.reset_index(drop=True)\n",
    "f_bronze=f_bronze.reset_index(drop=True)"
   ]
  },
  {
   "cell_type": "markdown",
   "metadata": {
    "collapsed": true
   },
   "source": [
    "Check your work.\n",
    "\n",
    "Make sure there's 20 teams in GOLD, 15 teams in SILVER, 10 teams in BRONZE"
   ]
  },
  {
   "cell_type": "code",
   "execution_count": 40,
   "metadata": {},
   "outputs": [
    {
     "name": "stdout",
     "output_type": "stream",
     "text": [
      "18\n",
      "18\n",
      "9\n"
     ]
    }
   ],
   "source": [
    "print(len(f_gold))\n",
    "print(len(f_silver))\n",
    "print(len(f_bronze))"
   ]
  },
  {
   "cell_type": "markdown",
   "metadata": {},
   "source": [
    "Finished forming gold, silver, bronze brackets\n",
    "\n",
    "Output to google docs"
   ]
  },
  {
   "cell_type": "code",
   "execution_count": 45,
   "metadata": {},
   "outputs": [
    {
     "ename": "APIError",
     "evalue": "{\n  \"error\": {\n    \"code\": 429,\n    \"message\": \"Insufficient tokens for quota 'ReadGroup' and limit 'USER-100s' of service 'sheets.googleapis.com' for consumer 'project_number:371878011270'.\",\n    \"status\": \"RESOURCE_EXHAUSTED\",\n    \"details\": [\n      {\n        \"@type\": \"type.googleapis.com/google.rpc.Help\",\n        \"links\": [\n          {\n            \"description\": \"Google developer console API key\",\n            \"url\": \"https://console.developers.google.com/project/371878011270/apiui/credential\"\n          }\n        ]\n      }\n    ]\n  }\n}\n",
     "output_type": "error",
     "traceback": [
      "\u001b[0;31m---------------------------------------------------------------------------\u001b[0m",
      "\u001b[0;31mAPIError\u001b[0m                                  Traceback (most recent call last)",
      "\u001b[0;32m<ipython-input-45-21bca817269d>\u001b[0m in \u001b[0;36m<module>\u001b[0;34m()\u001b[0m\n\u001b[1;32m      7\u001b[0m \u001b[0;32mfor\u001b[0m \u001b[0mindex\u001b[0m\u001b[0;34m,\u001b[0m\u001b[0mrow\u001b[0m \u001b[0;32min\u001b[0m \u001b[0mf_silver\u001b[0m\u001b[0;34m.\u001b[0m\u001b[0miterrows\u001b[0m\u001b[0;34m(\u001b[0m\u001b[0;34m)\u001b[0m\u001b[0;34m:\u001b[0m\u001b[0;34m\u001b[0m\u001b[0m\n\u001b[1;32m      8\u001b[0m     \u001b[0;32mfor\u001b[0m \u001b[0mi\u001b[0m \u001b[0;32min\u001b[0m \u001b[0mrange\u001b[0m\u001b[0;34m(\u001b[0m\u001b[0mlen\u001b[0m\u001b[0;34m(\u001b[0m\u001b[0mf_silver\u001b[0m\u001b[0;34m.\u001b[0m\u001b[0mcolumns\u001b[0m\u001b[0;34m)\u001b[0m\u001b[0;34m)\u001b[0m\u001b[0;34m:\u001b[0m\u001b[0;34m\u001b[0m\u001b[0m\n\u001b[0;32m----> 9\u001b[0;31m         \u001b[0mwrite_gdoc_cell\u001b[0m\u001b[0;34m(\u001b[0m\u001b[0mrow\u001b[0m\u001b[0;34m[\u001b[0m\u001b[0mf_silver\u001b[0m\u001b[0;34m.\u001b[0m\u001b[0mcolumns\u001b[0m\u001b[0;34m[\u001b[0m\u001b[0mi\u001b[0m\u001b[0;34m]\u001b[0m\u001b[0;34m]\u001b[0m\u001b[0;34m,\u001b[0m \u001b[0moutput_ws\u001b[0m\u001b[0;34m[\u001b[0m\u001b[0;36m0\u001b[0m\u001b[0;34m]\u001b[0m\u001b[0;34m,\u001b[0m \u001b[0;34m\"Women's SILVER\"\u001b[0m\u001b[0;34m,\u001b[0m \u001b[0mindex\u001b[0m\u001b[0;34m+\u001b[0m\u001b[0;36m4\u001b[0m\u001b[0;34m,\u001b[0m \u001b[0;36m2\u001b[0m\u001b[0;34m+\u001b[0m\u001b[0mi\u001b[0m\u001b[0;34m)\u001b[0m\u001b[0;34m\u001b[0m\u001b[0m\n\u001b[0m\u001b[1;32m     10\u001b[0m \u001b[0;34m\u001b[0m\u001b[0m\n\u001b[1;32m     11\u001b[0m \u001b[0mprint\u001b[0m\u001b[0;34m(\u001b[0m\u001b[0;34m\"Finished with Women's Silver\"\u001b[0m\u001b[0;34m)\u001b[0m\u001b[0;34m\u001b[0m\u001b[0m\n",
      "\u001b[0;32m~/Documents/ny-mini/2018/ReadWriteGDocs.py\u001b[0m in \u001b[0;36mwrite_gdoc_cell\u001b[0;34m(data, ws_name, sht_name, row, col)\u001b[0m\n\u001b[1;32m     49\u001b[0m \u001b[0;34m\u001b[0m\u001b[0m\n\u001b[1;32m     50\u001b[0m \u001b[0;32mdef\u001b[0m \u001b[0mwrite_gdoc_cell\u001b[0m\u001b[0;34m(\u001b[0m\u001b[0mdata\u001b[0m\u001b[0;34m,\u001b[0m \u001b[0mws_name\u001b[0m\u001b[0;34m,\u001b[0m \u001b[0msht_name\u001b[0m\u001b[0;34m,\u001b[0m \u001b[0mrow\u001b[0m\u001b[0;34m,\u001b[0m \u001b[0mcol\u001b[0m\u001b[0;34m)\u001b[0m\u001b[0;34m:\u001b[0m\u001b[0;34m\u001b[0m\u001b[0m\n\u001b[0;32m---> 51\u001b[0;31m     \u001b[0mwksht\u001b[0m \u001b[0;34m=\u001b[0m \u001b[0mopen_worksheet\u001b[0m\u001b[0;34m(\u001b[0m\u001b[0mws_name\u001b[0m\u001b[0;34m,\u001b[0m \u001b[0msht_name\u001b[0m\u001b[0;34m)\u001b[0m\u001b[0;34m\u001b[0m\u001b[0m\n\u001b[0m\u001b[1;32m     52\u001b[0m \u001b[0;34m\u001b[0m\u001b[0m\n\u001b[1;32m     53\u001b[0m     \u001b[0mwksht\u001b[0m\u001b[0;34m.\u001b[0m\u001b[0mupdate_cell\u001b[0m\u001b[0;34m(\u001b[0m\u001b[0mrow\u001b[0m\u001b[0;34m,\u001b[0m\u001b[0mcol\u001b[0m\u001b[0;34m,\u001b[0m\u001b[0mdata\u001b[0m\u001b[0;34m)\u001b[0m\u001b[0;34m\u001b[0m\u001b[0m\n",
      "\u001b[0;32m~/Documents/ny-mini/2018/ReadWriteGDocs.py\u001b[0m in \u001b[0;36mopen_worksheet\u001b[0;34m(ws_name, shtname)\u001b[0m\n\u001b[1;32m     22\u001b[0m \u001b[0;32mdef\u001b[0m \u001b[0mopen_worksheet\u001b[0m\u001b[0;34m(\u001b[0m\u001b[0mws_name\u001b[0m\u001b[0;34m,\u001b[0m \u001b[0mshtname\u001b[0m\u001b[0;34m)\u001b[0m\u001b[0;34m:\u001b[0m\u001b[0;34m\u001b[0m\u001b[0m\n\u001b[1;32m     23\u001b[0m     \u001b[0mwkbook\u001b[0m \u001b[0;34m=\u001b[0m \u001b[0mopen_workbook\u001b[0m\u001b[0;34m(\u001b[0m\u001b[0mws_name\u001b[0m\u001b[0;34m)\u001b[0m\u001b[0;34m\u001b[0m\u001b[0m\n\u001b[0;32m---> 24\u001b[0;31m     \u001b[0;32mreturn\u001b[0m \u001b[0mwkbook\u001b[0m\u001b[0;34m.\u001b[0m\u001b[0mworksheet\u001b[0m\u001b[0;34m(\u001b[0m\u001b[0mshtname\u001b[0m\u001b[0;34m)\u001b[0m\u001b[0;34m\u001b[0m\u001b[0m\n\u001b[0m\u001b[1;32m     25\u001b[0m \u001b[0;34m\u001b[0m\u001b[0m\n\u001b[1;32m     26\u001b[0m \u001b[0;32mdef\u001b[0m \u001b[0mwrite_gdoc\u001b[0m\u001b[0;34m(\u001b[0m\u001b[0mdata\u001b[0m\u001b[0;34m,\u001b[0m \u001b[0mws_name\u001b[0m\u001b[0;34m,\u001b[0m \u001b[0msht_name\u001b[0m\u001b[0;34m,\u001b[0m \u001b[0mrow\u001b[0m\u001b[0;34m,\u001b[0m \u001b[0mcol\u001b[0m\u001b[0;34m)\u001b[0m\u001b[0;34m:\u001b[0m\u001b[0;34m\u001b[0m\u001b[0m\n",
      "\u001b[0;32m/anaconda3/lib/python3.6/site-packages/gspread/v4/models.py\u001b[0m in \u001b[0;36mworksheet\u001b[0;34m(self, title)\u001b[0m\n\u001b[1;32m    167\u001b[0m \u001b[0;34m\u001b[0m\u001b[0m\n\u001b[1;32m    168\u001b[0m         \"\"\"\n\u001b[0;32m--> 169\u001b[0;31m         \u001b[0msheet_data\u001b[0m \u001b[0;34m=\u001b[0m \u001b[0mself\u001b[0m\u001b[0;34m.\u001b[0m\u001b[0mfetch_sheet_metadata\u001b[0m\u001b[0;34m(\u001b[0m\u001b[0;34m)\u001b[0m\u001b[0;34m\u001b[0m\u001b[0m\n\u001b[0m\u001b[1;32m    170\u001b[0m         \u001b[0;32mtry\u001b[0m\u001b[0;34m:\u001b[0m\u001b[0;34m\u001b[0m\u001b[0m\n\u001b[1;32m    171\u001b[0m             item = finditem(\n",
      "\u001b[0;32m/anaconda3/lib/python3.6/site-packages/gspread/v4/models.py\u001b[0m in \u001b[0;36mfetch_sheet_metadata\u001b[0;34m(self)\u001b[0m\n\u001b[1;32m    118\u001b[0m         \u001b[0murl\u001b[0m \u001b[0;34m=\u001b[0m \u001b[0mSPREADSHEET_URL\u001b[0m \u001b[0;34m%\u001b[0m \u001b[0mself\u001b[0m\u001b[0;34m.\u001b[0m\u001b[0mid\u001b[0m\u001b[0;34m\u001b[0m\u001b[0m\n\u001b[1;32m    119\u001b[0m \u001b[0;34m\u001b[0m\u001b[0m\n\u001b[0;32m--> 120\u001b[0;31m         \u001b[0mr\u001b[0m \u001b[0;34m=\u001b[0m \u001b[0mself\u001b[0m\u001b[0;34m.\u001b[0m\u001b[0mclient\u001b[0m\u001b[0;34m.\u001b[0m\u001b[0mrequest\u001b[0m\u001b[0;34m(\u001b[0m\u001b[0;34m'get'\u001b[0m\u001b[0;34m,\u001b[0m \u001b[0murl\u001b[0m\u001b[0;34m,\u001b[0m \u001b[0mparams\u001b[0m\u001b[0;34m=\u001b[0m\u001b[0mparams\u001b[0m\u001b[0;34m)\u001b[0m\u001b[0;34m\u001b[0m\u001b[0m\n\u001b[0m\u001b[1;32m    121\u001b[0m \u001b[0;34m\u001b[0m\u001b[0m\n\u001b[1;32m    122\u001b[0m         \u001b[0;32mreturn\u001b[0m \u001b[0mr\u001b[0m\u001b[0;34m.\u001b[0m\u001b[0mjson\u001b[0m\u001b[0;34m(\u001b[0m\u001b[0;34m)\u001b[0m\u001b[0;34m\u001b[0m\u001b[0m\n",
      "\u001b[0;32m/anaconda3/lib/python3.6/site-packages/gspread/v4/client.py\u001b[0m in \u001b[0;36mrequest\u001b[0;34m(self, method, endpoint, params, data, json, files)\u001b[0m\n\u001b[1;32m     71\u001b[0m             \u001b[0;32mreturn\u001b[0m \u001b[0mresponse\u001b[0m\u001b[0;34m\u001b[0m\u001b[0m\n\u001b[1;32m     72\u001b[0m         \u001b[0;32melse\u001b[0m\u001b[0;34m:\u001b[0m\u001b[0;34m\u001b[0m\u001b[0m\n\u001b[0;32m---> 73\u001b[0;31m             \u001b[0;32mraise\u001b[0m \u001b[0mAPIError\u001b[0m\u001b[0;34m(\u001b[0m\u001b[0mresponse\u001b[0m\u001b[0;34m)\u001b[0m\u001b[0;34m\u001b[0m\u001b[0m\n\u001b[0m\u001b[1;32m     74\u001b[0m \u001b[0;34m\u001b[0m\u001b[0m\n\u001b[1;32m     75\u001b[0m     \u001b[0;32mdef\u001b[0m \u001b[0mlist_spreadsheet_files\u001b[0m\u001b[0;34m(\u001b[0m\u001b[0mself\u001b[0m\u001b[0;34m)\u001b[0m\u001b[0;34m:\u001b[0m\u001b[0;34m\u001b[0m\u001b[0m\n",
      "\u001b[0;31mAPIError\u001b[0m: {\n  \"error\": {\n    \"code\": 429,\n    \"message\": \"Insufficient tokens for quota 'ReadGroup' and limit 'USER-100s' of service 'sheets.googleapis.com' for consumer 'project_number:371878011270'.\",\n    \"status\": \"RESOURCE_EXHAUSTED\",\n    \"details\": [\n      {\n        \"@type\": \"type.googleapis.com/google.rpc.Help\",\n        \"links\": [\n          {\n            \"description\": \"Google developer console API key\",\n            \"url\": \"https://console.developers.google.com/project/371878011270/apiui/credential\"\n          }\n        ]\n      }\n    ]\n  }\n}\n"
     ]
    }
   ],
   "source": [
    "# for index,row in f_gold.iterrows():\n",
    "#     for i in range(len(f_gold.columns)):\n",
    "#         write_gdoc_cell(row[f_gold.columns[i]], output_ws[0], \"Women's GOLD\", index+4, 2+i)\n",
    "\n",
    "# print(\"Finished with Women's Gold\")\n",
    "\n",
    "for index,row in f_silver.iterrows():\n",
    "    for i in range(len(f_silver.columns)):\n",
    "        write_gdoc_cell(row[f_silver.columns[i]], output_ws[0], \"Women's SILVER\", index+4, 2+i)\n",
    "\n",
    "print(\"Finished with Women's Silver\")\n",
    "\n",
    "for index,row in f_bronze.iterrows():\n",
    "    for i in range(len(f_bronze.columns)):\n",
    "        write_gdoc_cell(row[f_bronze.columns[i]], output_ws[0], \"Women's BRONZE\", index+4, 2+i)\n",
    "\n",
    "print(\"Finished with Women's Bronze\")"
   ]
  },
  {
   "cell_type": "code",
   "execution_count": 37,
   "metadata": {},
   "outputs": [
    {
     "data": {
      "text/html": [
       "<div>\n",
       "<style scoped>\n",
       "    .dataframe tbody tr th:only-of-type {\n",
       "        vertical-align: middle;\n",
       "    }\n",
       "\n",
       "    .dataframe tbody tr th {\n",
       "        vertical-align: top;\n",
       "    }\n",
       "\n",
       "    .dataframe thead th {\n",
       "        text-align: right;\n",
       "    }\n",
       "</style>\n",
       "<table border=\"1\" class=\"dataframe\">\n",
       "  <thead>\n",
       "    <tr style=\"text-align: right;\">\n",
       "      <th></th>\n",
       "      <th>Pool</th>\n",
       "      <th>Ranking</th>\n",
       "      <th>Team</th>\n",
       "      <th>Games</th>\n",
       "      <th>Points</th>\n",
       "    </tr>\n",
       "  </thead>\n",
       "  <tbody>\n",
       "    <tr>\n",
       "      <th>0</th>\n",
       "      <td>06</td>\n",
       "      <td>5</td>\n",
       "      <td>NY Vikings Rogue</td>\n",
       "      <td>2</td>\n",
       "      <td>-35</td>\n",
       "    </tr>\n",
       "    <tr>\n",
       "      <th>1</th>\n",
       "      <td>16</td>\n",
       "      <td>5</td>\n",
       "      <td>NY NLN Warriors</td>\n",
       "      <td>1</td>\n",
       "      <td>-44</td>\n",
       "    </tr>\n",
       "    <tr>\n",
       "      <th>2</th>\n",
       "      <td>11</td>\n",
       "      <td>5</td>\n",
       "      <td>Philly CIA Agents</td>\n",
       "      <td>1</td>\n",
       "      <td>-51</td>\n",
       "    </tr>\n",
       "    <tr>\n",
       "      <th>3</th>\n",
       "      <td>15</td>\n",
       "      <td>5</td>\n",
       "      <td>Wash DC CYC A</td>\n",
       "      <td>1</td>\n",
       "      <td>-51</td>\n",
       "    </tr>\n",
       "    <tr>\n",
       "      <th>4</th>\n",
       "      <td>18</td>\n",
       "      <td>5</td>\n",
       "      <td>NY Impact Synergy</td>\n",
       "      <td>1</td>\n",
       "      <td>-73</td>\n",
       "    </tr>\n",
       "    <tr>\n",
       "      <th>5</th>\n",
       "      <td>17</td>\n",
       "      <td>5</td>\n",
       "      <td>BOS Hurricanes Orange</td>\n",
       "      <td>1</td>\n",
       "      <td>-89</td>\n",
       "    </tr>\n",
       "    <tr>\n",
       "      <th>6</th>\n",
       "      <td>05</td>\n",
       "      <td>5</td>\n",
       "      <td>NY Fresh</td>\n",
       "      <td>0</td>\n",
       "      <td>-58</td>\n",
       "    </tr>\n",
       "    <tr>\n",
       "      <th>7</th>\n",
       "      <td>10</td>\n",
       "      <td>5</td>\n",
       "      <td>Philly Suns Under</td>\n",
       "      <td>0</td>\n",
       "      <td>-82</td>\n",
       "    </tr>\n",
       "    <tr>\n",
       "      <th>8</th>\n",
       "      <td>09</td>\n",
       "      <td>5</td>\n",
       "      <td>NY Strangers B</td>\n",
       "      <td>0</td>\n",
       "      <td>-83</td>\n",
       "    </tr>\n",
       "  </tbody>\n",
       "</table>\n",
       "</div>"
      ],
      "text/plain": [
       "  Pool  Ranking                   Team  Games  Points\n",
       "0   06        5       NY Vikings Rogue      2     -35\n",
       "1   16        5        NY NLN Warriors      1     -44\n",
       "2   11        5      Philly CIA Agents      1     -51\n",
       "3   15        5          Wash DC CYC A      1     -51\n",
       "4   18        5      NY Impact Synergy      1     -73\n",
       "5   17        5  BOS Hurricanes Orange      1     -89\n",
       "6   05        5               NY Fresh      0     -58\n",
       "7   10        5      Philly Suns Under      0     -82\n",
       "8   09        5         NY Strangers B      0     -83"
      ]
     },
     "execution_count": 37,
     "metadata": {},
     "output_type": "execute_result"
    }
   ],
   "source": [
    "f_bronze"
   ]
  }
 ],
 "metadata": {
  "anaconda-cloud": {},
  "kernelspec": {
   "display_name": "Python 3",
   "language": "python",
   "name": "python3"
  },
  "language_info": {
   "codemirror_mode": {
    "name": "ipython",
    "version": 3
   },
   "file_extension": ".py",
   "mimetype": "text/x-python",
   "name": "python",
   "nbconvert_exporter": "python",
   "pygments_lexer": "ipython3",
   "version": "3.6.6"
  }
 },
 "nbformat": 4,
 "nbformat_minor": 1
}
