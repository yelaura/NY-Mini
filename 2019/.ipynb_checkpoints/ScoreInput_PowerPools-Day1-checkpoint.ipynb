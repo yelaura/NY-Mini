{
 "cells": [
  {
   "cell_type": "markdown",
   "metadata": {},
   "source": [
    "# Purpose: Process Google Form Responses from pool play and output record info (wins/losses, win ratio/loss ratio, points) for display and seeding"
   ]
  },
  {
   "cell_type": "markdown",
   "metadata": {},
   "source": [
    "### Setup results, get team names"
   ]
  },
  {
   "cell_type": "code",
   "execution_count": 37,
   "metadata": {},
   "outputs": [],
   "source": [
    "from ReadWriteGDocs import write_gdoc, read_gdoc_range, write_gdoc_cell\n",
    "\n",
    "num_teams = 49 ### 49 for men, 45 for women ###\n",
    "master_sheet = \"Men's Master\" ### Change for men vs women ###\n",
    "\n",
    "import pandas as pd\n",
    "import numpy as np\n",
    "\n",
    "input_ws = \"NY Mini 2019 Score Input - Men's (Responses)\" ### Change for men vs women ###\n",
    "output_ws = [\"NY Mini 2019 - 1st Round\", \"NY Mini 2019 - 2nd Round\"]\n",
    "\n",
    "c=read_gdoc_range(input_ws, \"Form Responses 1\", 1,2,1,12)\n",
    "c=c[0]\n",
    "\n",
    "# get list of team names from Form Values\n",
    "results = pd.DataFrame(read_gdoc_range(\"Form Values Add-on - DO NOT DELETE\", \"Sheet1\", 2, 4 ### 4 for men, 5 for women ###\n",
    "                                       , 1+num_teams, 4 ### 4 for men, 5 for women ###\n",
    "                                      ), columns=[\"Team Name\"])\n",
    "\n",
    "results[\"Court Number\"] = \"\"\n",
    "results[\"Wins\"] = 0\n",
    "results[\"Points\"] = 0\n",
    "\n",
    "# get court numbers from master day 1\n",
    "courts = pd.DataFrame(read_gdoc_range(output_ws[0], master_sheet, 3, 2, 9, 10))\n",
    "\n",
    "# iterate each row\n",
    "for i in range(1,courts.shape[0]-1):\n",
    "    for j in range(0, courts.shape[1]):\n",
    "        team_name = courts.at[i, j]\n",
    "        \n",
    "        if (team_name != \"X\"):\n",
    "            team_row = results.loc[results[\"Team Name\"] == team_name]\n",
    "            results.at[team_row.index, \"Court Number\"] = courts.at[0, j]\n",
    "        \n",
    "# start processing from row 2\n",
    "# keep track of rows processed using processed\n",
    "\n",
    "processed = 0"
   ]
  },
  {
   "cell_type": "markdown",
   "metadata": {},
   "source": [
    "### Import new Google Form responses"
   ]
  },
  {
   "cell_type": "code",
   "execution_count": 38,
   "metadata": {},
   "outputs": [
    {
     "name": "stdout",
     "output_type": "stream",
     "text": [
      "Need to process 0 games\n"
     ]
    }
   ],
   "source": [
    "responses_in = pd.DataFrame(read_gdoc_range(input_ws, \"Form Responses 1\", processed + 2,2, 200, 12), \n",
    "                    columns=c)\n",
    "\n",
    "responses_in.replace('', np.nan, inplace=True)\n",
    "responses_in.dropna(inplace=True, how='all')\n",
    "\n",
    "from math import isnan\n",
    "\n",
    "print (\"Need to process \" + str(len(responses_in)) + \" games\")"
   ]
  },
  {
   "cell_type": "markdown",
   "metadata": {},
   "source": [
    "### Process each Google Form response - update wins and points for teams"
   ]
  },
  {
   "cell_type": "code",
   "execution_count": 39,
   "metadata": {},
   "outputs": [
    {
     "name": "stdout",
     "output_type": "stream",
     "text": [
      "Number of records processed (men's): 0\n",
      "Total Processed: 0\n"
     ]
    }
   ],
   "source": [
    "responses_trimmed = responses_in.drop(c[2:5], axis=1)\n",
    "## Convert to numeric\n",
    "for i in responses_trimmed.columns:\n",
    "    responses_trimmed[i] = pd.to_numeric(responses_trimmed[i], downcast='integer', errors='ignore')\n",
    "    \n",
    "# iterate through each row of responses_trimmed and see if team name is found\n",
    "\n",
    "for index,row in responses_trimmed.iterrows():\n",
    "    team_1_name = row[\"Team 1 Name\"]\n",
    "    team_2_name = row[\"Team 2 Name\"]\n",
    "    win1 = 0\n",
    "    win2 = 0\n",
    "    points1 = 0\n",
    "    points2 = 0\n",
    "    \n",
    "    # process first set\n",
    "    score_diff = row[\"Team 1 Score\"] - row[\"Team 2 Score\"]\n",
    "        \n",
    "    if (score_diff > 0):\n",
    "        win1 += 1\n",
    "    elif (score_diff < 0):\n",
    "        win2 += 1\n",
    "    ## if score_diff == 0 then do nothing\n",
    "        \n",
    "    # process second set\n",
    "    score_diff = row[\"Team 1 Score 2\"] - row[\"Team 2 Score 2\"]\n",
    "    points1 += score_diff\n",
    "    points2 -= score_diff\n",
    "    \n",
    "    if (score_diff > 0): # team 1 won\n",
    "        win1 += 1\n",
    "    elif (score_diff < 0): # team 2 won\n",
    "        win2 += 1\n",
    "    ## if score_diff == 0 then do nothing\n",
    "                    \n",
    "    team_1_row = results.loc[results[\"Team Name\"] == team_1_name]\n",
    "    results.at[team_1_row.index, \"Wins\"] = team_1_row[\"Wins\"] + win1\n",
    "    results.at[team_1_row.index, \"Points\"] = team_1_row[\"Points\"] + points1\n",
    "    \n",
    "    team_2_row = results.loc[results[\"Team Name\"] == team_2_name]\n",
    "    results.at[team_2_row.index, \"Wins\"] = team_2_row[\"Wins\"] + win2\n",
    "    results.at[team_2_row.index, \"Points\"] = team_2_row[\"Points\"] + points2\n",
    "    \n",
    "# add to results: wins and points\n",
    "\n",
    "    processed = processed + 1\n",
    "        \n",
    "print(\"Number of records processed (men's): \" + str(len(m_in)))\n",
    "\n",
    "print(\"Total Processed: \" + str(processed))"
   ]
  },
  {
   "cell_type": "markdown",
   "metadata": {},
   "source": [
    "### Sort results by court number, team name\n",
    "\n",
    "### Update display for standings"
   ]
  },
  {
   "cell_type": "code",
   "execution_count": 22,
   "metadata": {},
   "outputs": [],
   "source": [
    "# sort by court number and team name\n",
    "\n",
    "disp_results = results.sort_values(by=[\"Court Number\", \"Team Name\"]).reset_index(drop=True)\n",
    "\n",
    "#update display output - court numbers and team names - one time only\n",
    "for i in range(0, len(disp_results)):\n",
    "    write_gdoc_cell(disp_results.at[i, \"Court Number\"], output_ws[0], \"ScoreDisp\", 5+i, 2)\n",
    "    write_gdoc_cell(disp_results.at[i, \"Team Name\"], output_ws[0], \"ScoreDisp\", 5+i, 3)\n",
    "    \n",
    "# # update display output - wins and points - keep updating\n",
    "# for i in range(0, len(disp_results)):\n",
    "#     write_gdoc_cell(int(disp_results.at[i, \"Wins\"]), output_ws[0], \"ScoreDisp\", 5+i, 4)\n",
    "#     write_gdoc_cell(int(disp_results.at[i, \"Points\"]), output_ws[0], \"ScoreDisp\", 5+i, 5)"
   ]
  },
  {
   "cell_type": "markdown",
   "metadata": {},
   "source": [
    "### Sort results by court number, wins, points\n",
    "\n",
    "### Write team names to Gold, Silver, Bronze brackets"
   ]
  },
  {
   "cell_type": "code",
   "execution_count": 31,
   "metadata": {},
   "outputs": [],
   "source": [
    "# sort by court number, wins, points for seeding\n",
    "results = results.sort_values(by=[\"Court Number\", \"Wins\", \"Points\"], ascending=[1,0,0]).reset_index(drop=True)\n",
    "\n",
    "## get overall ranking - criteria is by games won, head to head, points\n",
    "## top 20 - gold\n",
    "## next 15 - silver\n",
    "## bottom 14 (men's) or 10 (women's) - bronze\n",
    "\n",
    "## snake teams into second day pool play\n",
    "\n",
    "## gold pools - top 20 - same for men and women\n",
    "\n",
    "for i in range(0, 5):\n",
    "    if (i % 2 == 0):\n",
    "        write_gdoc_cell(results.at[i*4, \"Team Name\"], output_ws[1], master_sheet, 5+i, 2)\n",
    "        write_gdoc_cell(results.at[i*4+1, \"Team Name\"], output_ws[1], master_sheet, 5+i, 2+1)\n",
    "        write_gdoc_cell(results.at[i*4+2, \"Team Name\"], output_ws[1], master_sheet, 5+i, 2+2)\n",
    "        write_gdoc_cell(results.at[i*4+3, \"Team Name\"], output_ws[1], master_sheet, 5+i, 2+3)\n",
    "    else:\n",
    "        write_gdoc_cell(results.at[i*4+3, \"Team Name\"], output_ws[1], master_sheet, 5+i, 2)\n",
    "        write_gdoc_cell(results.at[i*4+2, \"Team Name\"], output_ws[1], master_sheet, 5+i, 2+1)\n",
    "        write_gdoc_cell(results.at[i*4+1, \"Team Name\"], output_ws[1], master_sheet, 5+i, 2+2)\n",
    "        write_gdoc_cell(results.at[i*4+0, \"Team Name\"], output_ws[1], master_sheet, 5+i, 2+3)\n",
    "        \n",
    "## silver pools - next 15 - same for men and women\n",
    "\n",
    "for i in range(0, 5):\n",
    "    if (i % 2 == 0):\n",
    "        write_gdoc_cell(results.at[20+i*3, \"Team Name\"], output_ws[1], master_sheet, 5+i, 8)\n",
    "        write_gdoc_cell(results.at[20+i*3+1, \"Team Name\"], output_ws[1], master_sheet, 5+i, 8+1)\n",
    "        write_gdoc_cell(results.at[20+i*3+2, \"Team Name\"], output_ws[1], master_sheet, 5+i, 8+2)\n",
    "    else:\n",
    "        write_gdoc_cell(results.at[20+i*3+2, \"Team Name\"], output_ws[1], master_sheet, 5+i, 8+0)\n",
    "        write_gdoc_cell(results.at[20+i*3+1, \"Team Name\"], output_ws[1], master_sheet, 5+i, 8+1)\n",
    "        write_gdoc_cell(results.at[20+i*3+0, \"Team Name\"], output_ws[1], master_sheet, 5+i, 8+2)\n",
    "        \n",
    "## men's bronze pools - no snaking\n",
    "\n",
    "for i in range (0, 7):\n",
    "    write_gdoc_cell(results.at[20+15+i, \"Team Name\"], output_ws[1], master_sheet, 5+i, 13)\n",
    "    \n",
    "for i in range (0, 7):\n",
    "    write_gdoc_cell(results.at[20+15+7+i, \"Team Name\"], output_ws[1], master_sheet, 5+i, 14)\n",
    "    \n",
    "## women's bronze pools - 10 teams snaking\n",
    "\n",
    "# for i in range (0, 5):\n",
    "#     if (i % 2 == 0):\n",
    "#         write_gdoc_cell(results.at[20+15+i*2, \"Team Name\"], output_ws[1], master_sheet, 5+i, 13)\n",
    "#         write_gdoc_cell(results.at[20+15+i*2+1, \"Team Name\"], output_ws[1], master_sheet, 5+i, 13+1)\n",
    "#     else:\n",
    "#         write_gdoc_cell(results.at[20+15+i*2+1, \"Team Name\"], output_ws[1], master_sheet, 5+i, 13+1)\n",
    "#         write_gdoc_cell(results.at[20+15+i*2, \"Team Name\"], output_ws[1], master_sheet, 5+i, 13)"
   ]
  }
 ],
 "metadata": {
  "kernelspec": {
   "display_name": "Python 3",
   "language": "python",
   "name": "python3"
  },
  "language_info": {
   "codemirror_mode": {
    "name": "ipython",
    "version": 3
   },
   "file_extension": ".py",
   "mimetype": "text/x-python",
   "name": "python",
   "nbconvert_exporter": "python",
   "pygments_lexer": "ipython3",
   "version": "3.6.6"
  }
 },
 "nbformat": 4,
 "nbformat_minor": 2
}
