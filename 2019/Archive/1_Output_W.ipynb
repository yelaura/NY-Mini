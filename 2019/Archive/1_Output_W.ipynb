{
 "cells": [
  {
   "cell_type": "markdown",
   "metadata": {},
   "source": [
    "Day 1 Output:\n",
    "\n",
    "Determine which teams go into which pools\n",
    "Write the results to the pool masters\n",
    "\n",
    "Men's:  // need to change\n",
    "\n",
    "Top 2 teams from each pool go into Gold, and best 2 teams of 3rd places (Total: 20, 5 teams x 4 pools)\n",
    "Next 15 teams go into Silver (Total: 15, 5 teams x 3 pools)\n",
    "Next 10 go into Bronze (2 pools x 5 teams)\n",
    "\n",
    "Women's: // need to change\n",
    "\n",
    "Top 2 teams from each pool go into Gold, and best 2 teams of 3rd places (Total: 20, 5 teams x 4 pools)\n",
    "Next 15 teams go into Silver (Total: 15, 5 teams x 3 pools)\n",
    "Next 10 go into Bronze (2 pools x 5 teams, single match to 30 then single elim)"
   ]
  },
  {
   "cell_type": "code",
   "execution_count": 51,
   "metadata": {},
   "outputs": [],
   "source": [
    "# function to finalize pools for 2nd Round\n",
    "# input: list of team names (sorted by ranking), desired shape\n",
    "\n",
    "import numpy as np\n",
    "import pandas as pd\n",
    "\n",
    "# Retrieve pool rankings (Court names are in M1, W1,...)\n",
    "# num_pools = 9\n",
    "# m_pools = ['M' + str(i) for i in range(1,num_pools)]\n",
    "# f_pools = ['W' + str(i) for i in range(1,num_pools)]\n",
    "\n",
    "m_pools = ['01', '02', '03', '04', '07', '08', '12', '13', '14']\n",
    "f_pools = ['05', '06', '09', '10', '11', '15', '16', '17', '18']\n",
    "\n",
    "input_ws = [\"NY Mini 2019 - 1st Round\"]\n",
    "output_ws = [\"NY Mini 2019 - Day 2 Pools\"]"
   ]
  },
  {
   "cell_type": "markdown",
   "metadata": {},
   "source": [
    "Run code below to populate Day 2 Men's Gold, Silver, Bronze Brackets (mens_raw for overall)"
   ]
  },
  {
   "cell_type": "code",
   "execution_count": 52,
   "metadata": {},
   "outputs": [],
   "source": [
    "# Data Frame Construction: (Need this info)\n",
    "# Pool #, Placement, Team Name, Games (Ratio), Points (Ratio)\n",
    "\n",
    "import pandas as pd\n",
    "from ReadWriteGDocs import write_gdoc, read_gdoc_range, write_gdoc_cell\n",
    "\n",
    "womens_raw = pd.DataFrame()\n",
    "c=['Ranking', 'Team', 'Games', 'Points']\n",
    "\n",
    "#Grab data from GDOC\n",
    "for i in f_pools:\n",
    "    df=pd.DataFrame(read_gdoc_range(input_ws[0], \"CT\" + i + \" (W)\", 27, 2, 31,5), columns=c)\n",
    "    df.insert(0, 'Pool', i)\n",
    "    womens_raw=womens_raw.append(df)\n",
    "\n",
    "#Convert dtype so the sorting is accurate\n",
    "    \n",
    "womens_raw['Games']=pd.DataFrame(womens_raw['Games'], dtype=int)\n",
    "womens_raw['Points']=pd.DataFrame(womens_raw['Points'], dtype=int)\n",
    "womens_raw['Ranking']=pd.DataFrame(womens_raw['Ranking'], dtype=int)\n",
    "womens_raw=womens_raw.sort_values(['Ranking', 'Games', 'Points'], ascending=[True, False, False])\n",
    "womens_raw=womens_raw.reset_index(drop=True)\n",
    "\n",
    "# Form the Gold, Silver Bronze teams\n",
    "\n",
    "f_gold = womens_raw.iloc[range(0,18)]\n",
    "f_silver = womens_raw.iloc[range(18,36)]\n",
    "f_bronze = womens_raw.iloc[range(36,len(womens_raw))]\n",
    "\n",
    "f_gold.reset_index(drop=True)\n",
    "f_silver=f_silver.reset_index(drop=True)\n",
    "f_bronze=f_bronze.reset_index(drop=True)"
   ]
  },
  {
   "cell_type": "markdown",
   "metadata": {
    "collapsed": true
   },
   "source": [
    "Check your work.\n",
    "\n",
    "Make sure there's 20 teams in GOLD, 18 teams in SILVER, 9 teams in BRONZE"
   ]
  },
  {
   "cell_type": "code",
   "execution_count": 53,
   "metadata": {},
   "outputs": [
    {
     "name": "stdout",
     "output_type": "stream",
     "text": [
      "18\n",
      "18\n",
      "9\n"
     ]
    }
   ],
   "source": [
    "print(len(f_gold))\n",
    "print(len(f_silver))\n",
    "print(len(f_bronze))"
   ]
  },
  {
   "cell_type": "markdown",
   "metadata": {},
   "source": [
    "Finished forming gold, silver, bronze brackets\n",
    "\n",
    "Output to google docs"
   ]
  },
  {
   "cell_type": "code",
   "execution_count": 54,
   "metadata": {},
   "outputs": [
    {
     "name": "stdout",
     "output_type": "stream",
     "text": [
      "Finished with Women's Silver\n",
      "Finished with Women's Bronze\n"
     ]
    }
   ],
   "source": [
    "for index,row in f_gold.iterrows():\n",
    "    for i in range(len(f_gold.columns)):\n",
    "        write_gdoc_cell(row[f_gold.columns[i]], output_ws[0], \"Women's GOLD\", index+4, 2+i)\n",
    "\n",
    "print(\"Finished with Women's Gold\")\n",
    "\n",
    "for index,row in f_silver.iterrows():\n",
    "    for i in range(len(f_silver.columns)):\n",
    "        write_gdoc_cell(row[f_silver.columns[i]], output_ws[0], \"Women's SILVER\", index+4, 2+i)\n",
    "\n",
    "print(\"Finished with Women's Silver\")\n",
    "\n",
    "for index,row in f_bronze.iterrows():\n",
    "    for i in range(len(f_bronze.columns)):\n",
    "        write_gdoc_cell(row[f_bronze.columns[i]], output_ws[0], \"Women's BRONZE\", index+4, 2+i)\n",
    "\n",
    "print(\"Finished with Women's Bronze\")"
   ]
  },
  {
   "cell_type": "code",
   "execution_count": 55,
   "metadata": {},
   "outputs": [
    {
     "name": "stdout",
     "output_type": "stream",
     "text": [
      "Finished with Women's Gold\n"
     ]
    }
   ],
   "source": [
    "for index,row in f_gold.iterrows():\n",
    "    for i in range(len(f_gold.columns)):\n",
    "        write_gdoc_cell(row[f_gold.columns[i]], output_ws[0], \"Women's GOLD\", index+4, 2+i)\n",
    "\n",
    "print(\"Finished with Women's Gold\")"
   ]
  }
 ],
 "metadata": {
  "anaconda-cloud": {},
  "kernelspec": {
   "display_name": "Python 3",
   "language": "python",
   "name": "python3"
  },
  "language_info": {
   "codemirror_mode": {
    "name": "ipython",
    "version": 3
   },
   "file_extension": ".py",
   "mimetype": "text/x-python",
   "name": "python",
   "nbconvert_exporter": "python",
   "pygments_lexer": "ipython3",
   "version": "3.6.6"
  }
 },
 "nbformat": 4,
 "nbformat_minor": 1
}
