{
 "cells": [
  {
   "cell_type": "markdown",
   "metadata": {},
   "source": [
    "Retrieve rankings from SILVER pools (men/women)\n",
    "Sort by Ranking, Games, Points\n",
    "Output to Men/Women's Playoffs tab"
   ]
  },
  {
   "cell_type": "code",
   "execution_count": null,
   "metadata": {},
   "outputs": [],
   "source": [
    "import numpy as np\n",
    "import pandas as pd\n",
    "from ReadWriteGDocs import write_gdoc, read_gdoc_range, write_gdoc_cell\n",
    "\n",
    "ws = ['BRONZE NY Mini 2018 - Day 2 Pools']\n",
    "\n",
    "m_pools = ['13', '14']\n",
    "f_pools = ['17', '18']"
   ]
  },
  {
   "cell_type": "code",
   "execution_count": null,
   "metadata": {},
   "outputs": [],
   "source": [
    "# Retrieve rankings from each pool\n",
    "mens_raw = pd.DataFrame()\n",
    "c=['Ranking', 'Team', 'Games', 'Points']\n",
    "\n",
    "#Grab data from GDOC\n",
    "for i in m_pools:\n",
    "    df=pd.DataFrame(read_gdoc_range(ws[0], \"CT\" + i + \" (M)\", 27, 2, 31,5), columns=c)\n",
    "    df.insert(0, 'Pool', i)\n",
    "    mens_raw=mens_raw.append(df)\n",
    "\n",
    "# Convert dtype so the sorting is accurate\n",
    "    \n",
    "mens_raw['Games']=pd.DataFrame(mens_raw['Games'], dtype=int)\n",
    "mens_raw['Points']=pd.DataFrame(mens_raw['Points'], dtype=int)\n",
    "mens_raw['Ranking']=pd.DataFrame(mens_raw['Ranking'], dtype=int)\n",
    "mens_raw=mens_raw.sort_values(['Ranking', 'Games', 'Points'], ascending=[True, False, False])\n",
    "mens_raw=mens_raw.reset_index(drop=True)\n",
    "\n",
    "# output results and rankings to GOLD sheet\n",
    "\n",
    "for index,row in mens_raw.iterrows():\n",
    "    for i in range(len(mens_raw.columns)):\n",
    "        write_gdoc_cell(row[mens_raw.columns[i]], ws[0], \"Men's Playoffs\", index+4, 2+i)\n",
    "\n",
    "print(\"Finished with Men's Playoffs\")"
   ]
  },
  {
   "cell_type": "code",
   "execution_count": 4,
   "metadata": {},
   "outputs": [
    {
     "name": "stdout",
     "output_type": "stream",
     "text": [
      "Finished with Women's Playoffs\n"
     ]
    }
   ],
   "source": [
    "# Retrieve rankings from each pool\n",
    "womens_raw = pd.DataFrame()\n",
    "c=['Ranking', 'Team', 'Games', 'Points']\n",
    "\n",
    "#Grab data from GDOC\n",
    "for i in f_pools:\n",
    "    df=pd.DataFrame(read_gdoc_range(ws[0], \"CT\" + i + \" (W)\", 27, 2, 31,5), columns=c)\n",
    "    df.insert(0, 'Pool', i)\n",
    "    womens_raw=womens_raw.append(df)\n",
    "\n",
    "# Convert dtype so the sorting is accurate\n",
    "    \n",
    "womens_raw['Games']=pd.DataFrame(womens_raw['Games'], dtype=int)\n",
    "womens_raw['Points']=pd.DataFrame(womens_raw['Points'], dtype=int)\n",
    "womens_raw['Ranking']=pd.DataFrame(womens_raw['Ranking'], dtype=int)\n",
    "womens_raw=womens_raw.sort_values(['Ranking', 'Games', 'Points'], ascending=[True, False, False])\n",
    "womens_raw=womens_raw.reset_index(drop=True)\n",
    "\n",
    "# output results and rankings to GOLD sheet\n",
    "\n",
    "for index,row in womens_raw.iterrows():\n",
    "    for i in range(len(womens_raw.columns)):\n",
    "        write_gdoc_cell(row[womens_raw.columns[i]], ws[0], \"Women's Playoffs\", index+4, 2+i)\n",
    "\n",
    "print(\"Finished with Women's Playoffs\")"
   ]
  },
  {
   "cell_type": "code",
   "execution_count": null,
   "metadata": {
    "collapsed": true
   },
   "outputs": [],
   "source": []
  }
 ],
 "metadata": {
  "anaconda-cloud": {},
  "kernelspec": {
   "display_name": "Python 3",
   "language": "python",
   "name": "python3"
  },
  "language_info": {
   "codemirror_mode": {
    "name": "ipython",
    "version": 3
   },
   "file_extension": ".py",
   "mimetype": "text/x-python",
   "name": "python",
   "nbconvert_exporter": "python",
   "pygments_lexer": "ipython3",
   "version": "3.6.6"
  }
 },
 "nbformat": 4,
 "nbformat_minor": 1
}
