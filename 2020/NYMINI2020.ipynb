{
 "cells": [
  {
   "cell_type": "markdown",
   "metadata": {},
   "source": [
    "### Objects\n",
    "\n",
    "#### TEAM\n",
    "* Team Name\n",
    "* Team ID\n",
    "\n",
    "#### POOL\n",
    "* List of TEAMs\n",
    "* Standings\n",
    "\n",
    "#### BRACKET\n",
    "* List of POOLs\n",
    "* Standings\n",
    "\n",
    "#### ROUND\n",
    "* List of BRACKETs\n",
    "* List of TEAMs\n",
    "* Name of the round\n",
    "* Standings\n",
    "\n",
    "#### TOURNAMENT\n",
    "* List of ROUNDs\n",
    "* List of TEAMs"
   ]
  },
  {
   "cell_type": "code",
   "execution_count": 2,
   "metadata": {},
   "outputs": [],
   "source": [
    "import pandas as pd"
   ]
  },
  {
   "cell_type": "code",
   "execution_count": 3,
   "metadata": {},
   "outputs": [],
   "source": [
    "# Team Definition\n",
    "\n",
    "class Team:\n",
    "    \n",
    "    def __init__(self, teamName, teamID):\n",
    "        self.teamName = teamName\n",
    "        self.teamID = teamID\n",
    "        \n",
    "class Pool:\n",
    "    \n",
    "    def __init__(self, teamList, poolName):\n",
    "        self.poolName = poolName\n",
    "        self.teamList = teamList\n",
    "        self.standings = pd.DataFrame(columns = [\"Team Name\", \"Games Won\", \"Games Lost\", \"Overall Points\"])\n",
    "        \n",
    "class Bracket:\n",
    "    \n",
    "    def __init__(self, poolList):\n",
    "        self.poolList = poolList\n",
    "        self.standings = pd.DataFrame(columns = [\"Pool Name\", \"Team Name\", \"Games Won\", \"Games Lost\", \"Overall Points\"])\n",
    "        \n",
    "class Round:\n",
    "    \n",
    "    def __init__(self, bracketList, teamList, roundName, playoff=False):\n",
    "        self.roundName = roundName\n",
    "        self.bracketList = bracketList\n",
    "        self.teamList = teamList\n",
    "        \n",
    "        if playoff:\n",
    "            self.standings = []\n",
    "        else:\n",
    "            self.standings = pd.DataFrame(columns = [\"Pool Name\", \"Team Name\", \"Games Won\", \"Games Lost\", \"Overall Points\"])\n",
    "        \n",
    "class Tournament:\n",
    "    \n",
    "    def __init__(self, roundList, teamList):\n",
    "        self.roundList = roundList\n",
    "        self.teamList = teamList\n",
    "        self.standings = pd.DataFrame(columns = [\"Team Name\", \"Games Won\", \"Games Lost\", \"Overall Points\"])"
   ]
  },
  {
   "cell_type": "code",
   "execution_count": null,
   "metadata": {},
   "outputs": [],
   "source": [
    "# Variability\n",
    "\n",
    "numRounds = 3\n",
    "numBrackets = 3\n",
    "bracketNames = [\"Gold\", \"Silver\", \"Bronze\"]\n",
    "\n",
    "numMTeams = 50\n",
    "numWTeams = 50\n",
    "numMPools = 10\n",
    "numWPools = 10\n"
   ]
  }
 ],
 "metadata": {
  "kernelspec": {
   "display_name": "Python 3",
   "language": "python",
   "name": "python3"
  },
  "language_info": {
   "codemirror_mode": {
    "name": "ipython",
    "version": 3
   },
   "file_extension": ".py",
   "mimetype": "text/x-python",
   "name": "python",
   "nbconvert_exporter": "python",
   "pygments_lexer": "ipython3",
   "version": "3.7.4"
  }
 },
 "nbformat": 4,
 "nbformat_minor": 2
}
