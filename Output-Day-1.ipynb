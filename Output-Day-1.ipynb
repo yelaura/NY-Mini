{
 "cells": [
  {
   "cell_type": "markdown",
   "metadata": {},
   "source": [
    "Day 1 Output:\n",
    "\n",
    "Determine which teams go into which pools\n",
    "Write the results to the pool masters\n",
    "\n",
    "Men's: \n",
    "\n",
    "Top 2 teams from each pool go into Gold (Total: 16)\n",
    "Next 12 teams go into Silver (2 pools, 6 teams, 1 game 0-21)\n",
    "Next 12 go into Bronze (2 pools, 6 teams, 1 game 0-21)\n",
    "\n",
    "Women's:\n",
    "\n",
    "Top 16 teams go into Gold (First, Top 2 from each team, but the last four teams will challenge match for the last two spots in Gold)\n",
    "Next 16 teams go into Silver (4x4)\n",
    "Next 12 teams go into Bronze playoffs\n"
   ]
  },
  {
   "cell_type": "code",
   "execution_count": 122,
   "metadata": {
    "collapsed": false
   },
   "outputs": [],
   "source": [
    "# function to finalize pools for 2nd Round\n",
    "# input: list of team names (sorted by ranking), desired shape\n",
    "\n",
    "import numpy as np\n",
    "import pandas as pd\n",
    "\n",
    "# Retrieve pool rankings\n",
    "m_pools = ['M' + str(i) for i in range(1,9)]\n",
    "f_pools = ['W' + str(i) for i in range(1,10)]\n",
    "\n",
    "input_ws = [\"NY Mini 2017 - 1st Round\"]\n",
    "output_ws = [\"GOLD NY Mini 2017 - Day 2 Pools\", \"SILVER NY Mini 2017 - Day 2 Pools\", \"BRONZE NY Mini 2017 - Day 2 Pools\"]\n",
    "\n",
    "def snaked_teams(team_names, rows=4, cols=4):\n",
    "    #check for correct size\n",
    "    if len(team_names) != rows * cols:\n",
    "        print (\"Shape size mismatch. Cannot perform this function for \" + str(len(team_names)) + \" teams with a \" \n",
    "               + str(rows) + \" x \" + str(cols) + \" matrix\")\n",
    "        return None\n",
    "    \n",
    "    output = []\n",
    "    \n",
    "    for i in range(rows):\n",
    "        row = team_names[:cols]\n",
    "        if i % 2 == 1:\n",
    "            row.reverse()\n",
    "            \n",
    "        output.append(row)\n",
    "        \n",
    "        team_names=team_names[cols:]\n",
    "\n",
    "    return pd.DataFrame(output) # need to start index at 1 not zero\n",
    "        "
   ]
  },
  {
   "cell_type": "code",
   "execution_count": 101,
   "metadata": {
    "collapsed": false
   },
   "outputs": [],
   "source": [
    "#returns list of challenge matches given list of team names already sorted\n",
    "# assuming challenges are 1v1\n",
    "# start at the ends and pairs them up\n",
    "# can also be used for seeding playoffs\n",
    "\n",
    "def challenge_matches(team_names):\n",
    "    #16 teams (0,1,2... 15)\n",
    "    output = []\n",
    "    for i in range(int(len(team_names)/2)):\n",
    "        output.append(team_names[i] + \" vs \" + team_names[-i-1])\n",
    "    return output"
   ]
  },
  {
   "cell_type": "code",
   "execution_count": 78,
   "metadata": {
    "collapsed": false
   },
   "outputs": [],
   "source": [
    "# Select the last four of a sorted DataFrame\n",
    "def last_four(df):\n",
    "    n = len(df)\n",
    "    return df.iloc[n-4:n]['Team']"
   ]
  },
  {
   "cell_type": "markdown",
   "metadata": {},
   "source": [
    "Run code below to populate Day 2 Men's Gold, Silver, Bronze Brackets (mens_raw for overall)"
   ]
  },
  {
   "cell_type": "code",
   "execution_count": 168,
   "metadata": {
    "collapsed": false
   },
   "outputs": [],
   "source": [
    "# Data Frame Construction: (Need this info)\n",
    "# Pool #, Placement, Team Name, Games (Ratio), Points (Ratio)\n",
    "\n",
    "import pandas as pd\n",
    "from ReadWriteGDocs import write_gdoc, read_gdoc_range, write_gdoc_cell\n",
    "\n",
    "mens_raw = pd.DataFrame()\n",
    "c=['Ranking', 'Team', 'Games', 'Points']\n",
    "\n",
    "#Grab data from GDOC\n",
    "for i in m_pools:\n",
    "    df=pd.DataFrame(read_gdoc_range(input_ws[0], \"Court \" + i, 27, 2, 31,5), columns=c)\n",
    "    df.insert(0, 'Pool', i)\n",
    "    mens_raw=mens_raw.append(df)\n",
    "\n",
    "# #Convert dtype so the sorting is accurate\n",
    "    \n",
    "mens_raw['Games']=pd.DataFrame(mens_raw['Games'], dtype=int)\n",
    "mens_raw['Points']=pd.DataFrame(mens_raw['Points'], dtype=int)\n",
    "mens_raw['Ranking']=pd.DataFrame(mens_raw['Ranking'], dtype=int)\n",
    "mens_raw=mens_raw.sort_values(['Ranking', 'Games', 'Points'], ascending=[True, False, False])\n",
    "\n",
    "#Form the Gold, Silver Bronze teams\n",
    "\n",
    "m_gold = mens_raw[(mens_raw['Ranking'] == 2) | (mens_raw['Ranking'] == 1)]\n",
    "\n",
    "\n",
    "# #Sort by Ranking, Games, Points\n",
    "    \n",
    "m_gold=m_gold.sort_values(['Ranking', 'Games', 'Points'], ascending=[True, False, False])\n",
    "m_gold=m_gold.reset_index(drop=True)\n",
    "\n",
    "mens_temp = mens_raw[ (mens_raw['Ranking'] != 1) & (mens_raw['Ranking'] != 2) ].sort_values(['Ranking', 'Games', 'Points'], ascending=[True, False, False])\n",
    "mens_temp=mens_temp.reset_index(drop=True)\n",
    "\n",
    "m_silver = mens_temp.iloc[range(12)]\n",
    "m_bronze = mens_temp.iloc[range(12,len(mens_temp))]\n",
    "m_bronze = m_bronze.reset_index(drop=True)\n",
    "\n",
    "m_gold_snaked = snaked_teams(list(m_gold['Team']))\n",
    "m_silver_snaked = snaked_teams(list(m_silver['Team']), 6, 2)\n",
    "m_bronze_snaked = snaked_teams(list(m_bronze['Team']), 6, 2)\n",
    "\n",
    "for index,row in m_gold_snaked.iterrows():\n",
    "    for i in range(len(row)):\n",
    "        write_gdoc_cell(row[i], output_ws[0], \"Men's Gold\", index+4, i+2)\n",
    "        \n",
    "print(\"Finished Men's Gold Bracket\")\n",
    "        \n",
    "for index,row in m_silver_snaked.iterrows():\n",
    "    for i in range(len(row)):\n",
    "        write_gdoc_cell(row[i], output_ws[1], \"Men's Silver\", index+4, i+2)\n",
    "        \n",
    "print(\"Finished Men's Silver Bracket\")\n",
    "        \n",
    "for index,row in m_bronze_snaked.iterrows():\n",
    "    for i in range(len(row)):\n",
    "        write_gdoc_cell(row[i], output_ws[1], \"Men's Bronze\", index+4, i+2)\n",
    "        \n",
    "print(\"Finished Men's Bronze Bracket\")"
   ]
  },
  {
   "cell_type": "code",
   "execution_count": 183,
   "metadata": {
    "collapsed": false
   },
   "outputs": [
    {
     "name": "stdout",
     "output_type": "stream",
     "text": [
      "Women's Gold Challenge Matches are: ['U vs AE', 'AH vs Q']\n"
     ]
    }
   ],
   "source": [
    "# Data Frame Construction: (Need this info)\n",
    "# Pool #, Placement, Team Name, Games (Ratio), Points (Ratio)\n",
    "\n",
    "import pandas as pd\n",
    "from ReadWriteGDocs import write_gdoc, read_gdoc_range, write_gdoc_cell\n",
    "\n",
    "womens_raw = pd.DataFrame()\n",
    "c=['Ranking', 'Team', 'Games', 'Points', 'Games Ratio', 'Points Ratio']\n",
    "\n",
    "#Grab data from GDOC\n",
    "for i in f_pools:\n",
    "    if i == 'W9':\n",
    "        df=pd.DataFrame(read_gdoc_range(input_ws[0], \"Court \" + i, 27, 2, 30, 7), columns=c)\n",
    "    else:\n",
    "        df=pd.DataFrame(read_gdoc_range(input_ws[0], \"Court \" + i, 27, 2, 31,7), columns=c)\n",
    "    \n",
    "    df.insert(0, 'Pool', i)\n",
    "    \n",
    "    womens_raw=womens_raw.append(df)\n",
    "\n",
    "# #Convert dtype so the sorting is accurate\n",
    "    \n",
    "womens_raw['Games']=pd.DataFrame(womens_raw['Games'], dtype=int)\n",
    "womens_raw['Points']=pd.DataFrame(womens_raw['Points'], dtype=int)\n",
    "womens_raw['Ranking']=pd.DataFrame(womens_raw['Ranking'], dtype=int)\n",
    "womens_raw=womens_raw.sort_values(['Ranking', 'Games Ratio', 'Points Ratio'], ascending=[True, False, False])\n",
    "womens_raw=womens_raw.reset_index(drop=True)\n",
    "\n",
    "#Form the Gold, Silver Bronze teams\n",
    "\n",
    "w_gold = womens_raw[(womens_raw['Ranking'] == 2) | (womens_raw['Ranking'] == 1)]\n",
    "last4 = last_four(w_gold)\n",
    "print(\"Women's Gold Challenge Matches are: \" + str(challenge_matches(list(last4))))\n",
    "\n",
    "w_silver = womens_raw.iloc[range(len(w_gold),32)]\n",
    "w_silver = w_silver.reset_index(drop=True)\n",
    "\n",
    "w_bronze = womens_raw.iloc[range(32,len(womens_raw))]\n",
    "w_bronze = w_bronze.reset_index(drop=True)\n"
   ]
  },
  {
   "cell_type": "code",
   "execution_count": 187,
   "metadata": {
    "collapsed": false
   },
   "outputs": [
    {
     "name": "stdout",
     "output_type": "stream",
     "text": [
      "Finished Women's Gold Bracket\n",
      "Finished Women's Silver Bracket\n",
      "Finished Women's Bronze Bracket\n"
     ]
    }
   ],
   "source": [
    "#After the challenge matches:\n",
    "#Drop the two teams from Gold\n",
    "#Add the two teams to Silver\n",
    "#Sort again\n",
    "\n",
    "lost = ['U', 'AE']\n",
    "\n",
    "w_silver = w_silver.append(w_gold.iloc[w_gold.index[(w_gold['Team'] == lost[0])]])\n",
    "w_silver = w_silver.append(w_gold.iloc[w_gold.index[(w_gold['Team'] == lost[1])]])\n",
    "w_silver = w_silver.sort_values(['Ranking', 'Games Ratio', 'Points Ratio'], ascending=[True, False, False])\n",
    "w_silver = w_silver.reset_index(drop=True)\n",
    "\n",
    "w_gold = w_gold.drop(w_gold.index[(w_gold['Team'] == lost[0]) | (w_gold['Team'] == lost[1])])\n",
    "w_gold = w_gold.reset_index(drop=True)\n",
    "\n",
    "#Determine the Pools after challenge matches\n",
    "\n",
    "f_gold_snaked = snaked_teams(list(w_gold['Team']))\n",
    "f_silver_snaked = snaked_teams(list(w_silver['Team']))\n",
    "f_bronze_snaked = snaked_teams(list(w_bronze['Team']), 12, 1)\n",
    "\n",
    "for index,row in f_gold_snaked.iterrows():\n",
    "    for i in range(len(row)):\n",
    "        write_gdoc_cell(row[i], output_ws[0], \"Women's Gold\", index+4, i+2)\n",
    "        \n",
    "print(\"Finished Women's Gold Bracket\")\n",
    "        \n",
    "for index,row in f_silver_snaked.iterrows():\n",
    "    for i in range(len(row)):\n",
    "        write_gdoc_cell(row[i], output_ws[1], \"Women's Silver\", index+4, i+2)\n",
    "        \n",
    "print(\"Finished Women's Silver Bracket\")\n",
    "\n",
    "for index,row in f_bronze_snaked.iterrows():\n",
    "    write_gdoc_cell(row[0], output_ws[2], \"Women's Bronze\", index+4, 2)\n",
    "    \n",
    "print(\"Finished Women's Bronze Bracket\")"
   ]
  }
 ],
 "metadata": {
  "anaconda-cloud": {},
  "kernelspec": {
   "display_name": "Python [conda root]",
   "language": "python",
   "name": "conda-root-py"
  },
  "language_info": {
   "codemirror_mode": {
    "name": "ipython",
    "version": 3
   },
   "file_extension": ".py",
   "mimetype": "text/x-python",
   "name": "python",
   "nbconvert_exporter": "python",
   "pygments_lexer": "ipython3",
   "version": "3.5.2"
  }
 },
 "nbformat": 4,
 "nbformat_minor": 1
}
