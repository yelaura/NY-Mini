{
 "cells": [
  {
   "cell_type": "code",
   "execution_count": 3,
   "metadata": {
    "collapsed": false
   },
   "outputs": [],
   "source": [
    "import ipynb.fs.defs.tourney as tn\n",
    "import ipynb.fs.defs.pool as pl"
   ]
  },
  {
   "cell_type": "code",
   "execution_count": 4,
   "metadata": {
    "collapsed": false
   },
   "outputs": [
    {
     "name": "stdout",
     "output_type": "stream",
     "text": [
      "\n",
      "Pool:M1\n",
      "Team Name\tGames Won\tPoints Overall\n",
      "teama \t\t 7 \t\t 8\n",
      "teamb \t\t 7 \t\t 46\n",
      "teamd \t\t 3 \t\t -10\n",
      "teamc \t\t 3 \t\t -13\n",
      "teame \t\t 0 \t\t -31\n"
     ]
    }
   ],
   "source": [
    "teams = ['teama', 'teamb','teamc', 'teamd', 'teame']\n",
    "poolM1 = pl.pool('M1', teams)\n",
    "poolM1.add_games(['teama','teamb'], [[21,19],[15,21]])\n",
    "poolM1.add_games(['teama','teamc'], [[22,20],[21,19]])\n",
    "poolM1.add_games(['teama','teamd'], [[22,20],[21,19]])\n",
    "poolM1.add_games(['teama','teame'], [[22,20],[21,19]])\n",
    "\n",
    "poolM1.add_games(['teamb','teamc'], [[22,10],[21,19]])\n",
    "poolM1.add_games(['teamb','teamd'], [[22,10],[21,19]])\n",
    "poolM1.add_games(['teamb','teame'], [[22,10],[21,19]])\n",
    "\n",
    "poolM1.add_games(['teamc','teamd'], [[22,24],[23,20]])\n",
    "poolM1.add_games(['teamc','teame'], [[24,22],[23,21]])\n",
    "\n",
    "poolM1.add_games(['teamd','teame'], [[22,15],[23,21]])\n",
    "\n",
    "poolM1.get_sorted_rankings()\n",
    "poolM1.pp_rankings()"
   ]
  },
  {
   "cell_type": "code",
   "execution_count": null,
   "metadata": {
    "collapsed": true
   },
   "outputs": [],
   "source": []
  }
 ],
 "metadata": {
  "kernelspec": {
   "display_name": "Python [conda root]",
   "language": "python",
   "name": "conda-root-py"
  },
  "language_info": {
   "codemirror_mode": {
    "name": "ipython",
    "version": 3
   },
   "file_extension": ".py",
   "mimetype": "text/x-python",
   "name": "python",
   "nbconvert_exporter": "python",
   "pygments_lexer": "ipython3",
   "version": "3.5.2"
  }
 },
 "nbformat": 4,
 "nbformat_minor": 1
}
