{
 "cells": [
  {
   "cell_type": "code",
   "execution_count": 21,
   "metadata": {
    "collapsed": false
   },
   "outputs": [],
   "source": [
    "import ipynb.fs.full.tourney as tn\n",
    "import ipynb.fs.full.pool as pl"
   ]
  },
  {
   "cell_type": "code",
   "execution_count": 22,
   "metadata": {
    "collapsed": false
   },
   "outputs": [
    {
     "ename": "NameError",
     "evalue": "name 'index' is not defined",
     "output_type": "error",
     "traceback": [
      "\u001b[0;31m---------------------------------------------------------------------------\u001b[0m",
      "\u001b[0;31mNameError\u001b[0m                                 Traceback (most recent call last)",
      "\u001b[0;32m<ipython-input-22-9eb4ca883cf3>\u001b[0m in \u001b[0;36m<module>\u001b[0;34m()\u001b[0m\n\u001b[1;32m     28\u001b[0m     \u001b[0mprint\u001b[0m\u001b[1;33m(\u001b[0m\u001b[0mpoolM1\u001b[0m\u001b[1;33m.\u001b[0m\u001b[0mrankings_sorted\u001b[0m\u001b[1;33m)\u001b[0m\u001b[1;33m\u001b[0m\u001b[0m\n\u001b[1;32m     29\u001b[0m \u001b[1;33m\u001b[0m\u001b[0m\n\u001b[0;32m---> 30\u001b[0;31m \u001b[0mmain\u001b[0m\u001b[1;33m(\u001b[0m\u001b[1;33m)\u001b[0m\u001b[1;33m\u001b[0m\u001b[0m\n\u001b[0m",
      "\u001b[0;32m<ipython-input-22-9eb4ca883cf3>\u001b[0m in \u001b[0;36mmain\u001b[0;34m()\u001b[0m\n\u001b[1;32m     24\u001b[0m     \u001b[0mpoolM1\u001b[0m\u001b[1;33m.\u001b[0m\u001b[0madd_games\u001b[0m\u001b[1;33m(\u001b[0m\u001b[1;33m[\u001b[0m\u001b[1;34m'teamd'\u001b[0m\u001b[1;33m,\u001b[0m\u001b[1;34m'teame'\u001b[0m\u001b[1;33m]\u001b[0m\u001b[1;33m,\u001b[0m \u001b[1;33m[\u001b[0m\u001b[1;33m[\u001b[0m\u001b[1;36m22\u001b[0m\u001b[1;33m,\u001b[0m\u001b[1;36m15\u001b[0m\u001b[1;33m]\u001b[0m\u001b[1;33m,\u001b[0m\u001b[1;33m[\u001b[0m\u001b[1;36m23\u001b[0m\u001b[1;33m,\u001b[0m\u001b[1;36m21\u001b[0m\u001b[1;33m]\u001b[0m\u001b[1;33m]\u001b[0m\u001b[1;33m)\u001b[0m\u001b[1;33m\u001b[0m\u001b[0m\n\u001b[1;32m     25\u001b[0m \u001b[1;33m\u001b[0m\u001b[0m\n\u001b[0;32m---> 26\u001b[0;31m     \u001b[0mpoolM1\u001b[0m\u001b[1;33m.\u001b[0m\u001b[0mget_sorted_rankings\u001b[0m\u001b[1;33m(\u001b[0m\u001b[1;33m)\u001b[0m\u001b[1;33m\u001b[0m\u001b[0m\n\u001b[0m\u001b[1;32m     27\u001b[0m     \u001b[0mpoolM1\u001b[0m\u001b[1;33m.\u001b[0m\u001b[0mpp_rankings\u001b[0m\u001b[1;33m(\u001b[0m\u001b[1;33m)\u001b[0m\u001b[1;33m\u001b[0m\u001b[0m\n\u001b[1;32m     28\u001b[0m     \u001b[0mprint\u001b[0m\u001b[1;33m(\u001b[0m\u001b[0mpoolM1\u001b[0m\u001b[1;33m.\u001b[0m\u001b[0mrankings_sorted\u001b[0m\u001b[1;33m)\u001b[0m\u001b[1;33m\u001b[0m\u001b[0m\n",
      "\u001b[0;32mC:\\Users\\lye\\Documents\\GitHub\\ny-mini\\pool.ipynb\u001b[0m in \u001b[0;36mget_sorted_rankings\u001b[0;34m(self)\u001b[0m\n",
      "\u001b[0;32mC:\\Users\\lye\\Documents\\GitHub\\ny-mini\\pool.ipynb\u001b[0m in \u001b[0;36mresolve_ties\u001b[0;34m(self)\u001b[0m\n",
      "\u001b[0;32mC:\\Users\\lye\\Documents\\GitHub\\ny-mini\\pool.ipynb\u001b[0m in \u001b[0;36mresolve_HTH\u001b[0;34m(self)\u001b[0m\n",
      "\u001b[0;31mNameError\u001b[0m: name 'index' is not defined"
     ]
    }
   ],
   "source": [
    "def main():\n",
    "    ##Step1: create team names to feed into pools\n",
    "    ##Step2: Create pools from list of team names\n",
    "    ##Step3: Add games\n",
    "    ##Step4: Print rankings by pool\n",
    "    \n",
    "    ##Step1: Create tournament\n",
    "    ##Step2: Decide Gold, Silver, Bronze brackets\n",
    "    \n",
    "    teams = ['teama', 'teamb','teamc', 'teamd', 'teame']\n",
    "    poolM1 = pl.pool('M1', teams)\n",
    "    poolM1.add_games(['teama','teamb'], [[21,19],[15,21]])\n",
    "    poolM1.add_games(['teama','teamc'], [[22,20],[21,19]])\n",
    "    poolM1.add_games(['teama','teamd'], [[22,20],[21,19]])\n",
    "    poolM1.add_games(['teama','teame'], [[22,20],[21,19]])\n",
    "    \n",
    "    poolM1.add_games(['teamb','teamc'], [[22,10],[21,19]])\n",
    "    poolM1.add_games(['teamb','teamd'], [[22,10],[21,19]])\n",
    "    poolM1.add_games(['teamb','teame'], [[22,10],[21,19]])\n",
    "    \n",
    "    poolM1.add_games(['teamc','teamd'], [[22,24],[23,20]])\n",
    "    poolM1.add_games(['teamc','teame'], [[24,22],[23,21]])\n",
    "    \n",
    "    poolM1.add_games(['teamd','teame'], [[22,15],[23,21]])\n",
    "        \n",
    "    poolM1.get_sorted_rankings()\n",
    "    poolM1.pp_rankings()\n",
    "    print(poolM1.rankings_sorted)\n",
    "            \n",
    "main()"
   ]
  },
  {
   "cell_type": "code",
   "execution_count": null,
   "metadata": {
    "collapsed": true
   },
   "outputs": [],
   "source": []
  }
 ],
 "metadata": {
  "kernelspec": {
   "display_name": "Python [conda root]",
   "language": "python",
   "name": "conda-root-py"
  },
  "language_info": {
   "codemirror_mode": {
    "name": "ipython",
    "version": 3
   },
   "file_extension": ".py",
   "mimetype": "text/x-python",
   "name": "python",
   "nbconvert_exporter": "python",
   "pygments_lexer": "ipython3",
   "version": "3.5.2"
  }
 },
 "nbformat": 4,
 "nbformat_minor": 1
}
