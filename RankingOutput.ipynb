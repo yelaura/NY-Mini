{
 "cells": [
  {
   "cell_type": "raw",
   "metadata": {},
   "source": [
    "Assuming that all the scores in the NY Mini spreadsheet are filled out, we need to:\n",
    "1. Sort each pool by games (ratio), head-to-head, points\n",
    "    -Retrieve/print the final rankings of each pool by pool\n",
    "    -Retrieve/print 1st Round rankings after sorting by placement (1,2,3,4,5), games (ratio), points (ratio)\n",
    "2.For 1st Round: Extract the top two teams from each pool\n",
    "    -Retrieve/print rankings by placement (1,2), games (ratio), points (ratio)\n",
    "    -If there are more than 16 teams, then sort by placement (1,2) and then games (ratio) and points (ratio). Extract the last four performing teams. Print who will go into head-to-head for the next round. \n",
    "    -Finalize/Retrieve/print 2nd Round pools\n",
    "    -Write results to GDOC\n",
    "3. For 2nd Round: (need to ask Danny how many teams for each bracket)\n",
    "    -Retrieve/print rankings by placement (1,2), games (ratio), points (ratio)\n",
    "    -Write results to GDOC"
   ]
  },
  {
   "cell_type": "code",
   "execution_count": 91,
   "metadata": {
    "collapsed": false
   },
   "outputs": [],
   "source": [
    "# Retrieve pool rankings\n",
    "m_pools = ['M' + str(i) for i in range(1,9)]\n",
    "f_pools = ['W' + str(i) for i in range(1,9)]\n",
    "\n",
    "input_ws = [\"NY Mini 2017 - 1st Round\", \"NY Mini 2017 - 2nd Round\"]\n",
    "output_ws = [\"NY Mini 2017 - Results\"]\n",
    "\n",
    "# Data Frame Construction: (Need this info)\n",
    "# Pool #, Placement, Team Name, Games (Ratio), Points (Ratio)\n",
    "\n",
    "### Need to check if GDOC resolves HTH ###"
   ]
  },
  {
   "cell_type": "code",
   "execution_count": 92,
   "metadata": {
    "collapsed": false
   },
   "outputs": [],
   "source": [
    "#returns list of challenge matches given list of team names already sorted\n",
    "# assuming challenges are 1v1\n",
    "# start at the ends and pairs them up\n",
    "# can also be used for seeding playoffs\n",
    "\n",
    "def challenge_matches(team_names):\n",
    "    #16 teams (0,1,2... 15)\n",
    "    output = []\n",
    "    for i in range(int(len(team_names)/2)):\n",
    "        output.append(team_names[i] + \" vs \" + team_names[-i-1])\n",
    "    return output"
   ]
  },
  {
   "cell_type": "code",
   "execution_count": 95,
   "metadata": {
    "collapsed": false
   },
   "outputs": [
    {
     "name": "stdout",
     "output_type": "stream",
     "text": [
      "['a vs p', 'b vs o', 'c vs n', 'd vs m', 'e vs l', 'f vs k', 'g vs j', 'h vs i']\n"
     ]
    }
   ],
   "source": [
    "teams = ['a', 'b', 'c', 'd', 'e', 'f', 'g', 'h',\n",
    "        'i', 'j', 'k', 'l', 'm','n','o','p']\n",
    "\n",
    "print(challenge_matches(teams))"
   ]
  },
  {
   "cell_type": "code",
   "execution_count": 52,
   "metadata": {
    "collapsed": false
   },
   "outputs": [],
   "source": [
    "# function to finalize pools for 2nd Round\n",
    "# input: list of team names (sorted by ranking), desired shape\n",
    "\n",
    "import numpy as np\n",
    "import pandas as pd\n",
    "\n",
    "def snaked_teams(team_names, rows=4, cols=4):\n",
    "    #check for correct size\n",
    "    if len(team_names) != rows * cols:\n",
    "        print (\"Shape size mismatch. Cannot perform this function for \" + str(len(team_names)) + \" teams with a \" \n",
    "               + str(rows) + \" x \" + str(cols) + \" matrix\")\n",
    "        return None\n",
    "    \n",
    "    output = np.zeros((rows,cols), dtype=str)\n",
    "    \n",
    "    for i in range(rows):\n",
    "        if i % 2 == 0:\n",
    "            output[i] = team_names[:cols]\n",
    "        else:\n",
    "            row = team_names[:cols]\n",
    "            row.reverse()\n",
    "            output[i] = row\n",
    "        \n",
    "        team_names=team_names[cols:]\n",
    "    \n",
    "    return pd.DataFrame(output, columns=['Pool 1', 'Pool 2', 'Pool 3', 'Pool 4']) # need to start index at 1 not zero\n",
    "        "
   ]
  },
  {
   "cell_type": "code",
   "execution_count": 96,
   "metadata": {
    "collapsed": true
   },
   "outputs": [],
   "source": [
    "def __main__():\n",
    "    pass"
   ]
  },
  {
   "cell_type": "code",
   "execution_count": null,
   "metadata": {
    "collapsed": true
   },
   "outputs": [],
   "source": []
  }
 ],
 "metadata": {
  "anaconda-cloud": {},
  "kernelspec": {
   "display_name": "Python [conda root]",
   "language": "python",
   "name": "conda-root-py"
  },
  "language_info": {
   "codemirror_mode": {
    "name": "ipython",
    "version": 3
   },
   "file_extension": ".py",
   "mimetype": "text/x-python",
   "name": "python",
   "nbconvert_exporter": "python",
   "pygments_lexer": "ipython3",
   "version": "3.5.2"
  }
 },
 "nbformat": 4,
 "nbformat_minor": 1
}
