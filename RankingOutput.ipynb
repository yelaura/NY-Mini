{
 "cells": [
  {
   "cell_type": "raw",
   "metadata": {},
   "source": [
    "Assuming that all the scores in the NY Mini spreadsheet are filled out, we need to:\n",
    "-1. Sort each pool by games (ratio), head-to-head, points\n",
    "    -Retrieve/print the final rankings of each pool by pool\n",
    "    -Retrieve/print 1st Round rankings after sorting by placement (1,2,3,4,5), games (ratio), points (ratio)\n",
    "-2.For 1st Round: Extract the top two teams from each pool\n",
    "-    -Retrieve/print rankings by placement (1,2), games (ratio), points (ratio)\n",
    "-    -If there are more than 16 teams, then sort by placement (1,2) and then games (ratio) and points (ratio). Extract the last four performing teams. Print who will go into head-to-head for the next round. \n",
    "-    -Finalize/Retrieve/print 2nd Round pools\n",
    "-    -Write results to GDOC\n",
    "3. For 2nd Round: (need to ask Danny how many teams for each bracket)\n",
    "    -Retrieve/print rankings by placement (1,2), games (ratio), points (ratio)\n",
    "    -Write results to GDOC\n",
    "4. For end of 2nd round: do the same thing to determine playoff seedings.\n",
    "    -Sort by Ranking, Games, Points\n",
    "    -Split into Gold/Silver/Bronze\n",
    "    -Fill brackets"
   ]
  },
  {
   "cell_type": "code",
   "execution_count": 1,
   "metadata": {
    "collapsed": false
   },
   "outputs": [],
   "source": [
    "# Retrieve pool rankings\n",
    "m_pools = ['M' + str(i) for i in range(1,9)]\n",
    "f_pools = ['W' + str(i) for i in range(1,9)]\n",
    "\n",
    "input_ws = [\"NY Mini 2017 - 1st Round\", \"NY Mini 2017 - 2nd Round\"]\n",
    "output_ws = [\"NY Mini 2017 - Day 2 Pools\", \"NY Mini 2017 - Playoffs\"]\n",
    "\n",
    "# Data Frame Construction: (Need this info)\n",
    "# Pool #, Placement, Team Name, Games (Ratio), Points (Ratio)\n",
    "\n",
    "import pandas as pd\n",
    "from ReadWriteGDocs import write_gdoc, read_gdoc_range\n",
    "\n",
    "mens_raw = []\n",
    "c=['Ranking', 'Team', 'Games', 'Points']\n",
    "\n",
    "#Grab data from GDOC\n",
    "for i in m_pools:\n",
    "    df=pd.DataFrame(read_gdoc_range(input_ws[0], \"Court \" + i, 27, 2, 31,5), columns=c)\n",
    "    df.insert(0, 'Pool', i)\n",
    "    mens_raw.append(df)\n",
    "    \n",
    "#Take the two top performing teams from each pool\n",
    "    \n",
    "m_top16 = pd.DataFrame()\n",
    "\n",
    "for i in range(len(m_pools)):\n",
    "    m_top16 = m_top16.append(mens_raw[i].loc[0])\n",
    "    m_top16 = m_top16.append(mens_raw[i].loc[1])\n",
    "    \n",
    "#Convert dtype so the sorting is accurate\n",
    "    \n",
    "m_top16['Games']=pd.DataFrame(m_top16['Games'], dtype=int)\n",
    "m_top16['Points']=pd.DataFrame(m_top16['Points'], dtype=int)\n",
    "m_top16['Ranking']=pd.DataFrame(m_top16['Ranking'], dtype=int)\n",
    "\n",
    "#Sort by Ranking, Games, Points\n",
    "    \n",
    "m_top16=m_top16.sort_values(['Ranking', 'Games', 'Points'], ascending=[True, False, False])\n",
    "m_top16=m_top16.reset_index(drop=True)\n",
    "\n",
    "#Women's Rankings:\n",
    "\n",
    "# womens_raw = []\n",
    "\n",
    "# #Grab data from GDOC\n",
    "# for i in f_pools:\n",
    "#     df=pd.DataFrame(read_gdoc_range(input_ws[0], \"Court \" + i, 27, 2, 31,5), columns=c)\n",
    "#     df.insert(0, 'Pool', i)\n",
    "#     womens_raw.append(df)\n",
    "    \n",
    "# #Take the two top performing teams from each pool\n",
    "    \n",
    "# f_top16 = pd.DataFrame()\n",
    "\n",
    "# for i in range(len(m_pools)):\n",
    "#     f_top16 = f_top16.append(womens_raw[i].loc[0])\n",
    "#     f_top16 = f_top16.append(womens_raw[i].loc[1])\n",
    "    \n",
    "# #Convert dtype so the sorting is accurate\n",
    "    \n",
    "# f_top16['Games']=pd.DataFrame(f_top16['Games'], dtype=int)\n",
    "# f_top16['Points']=pd.DataFrame(f_top16['Points'], dtype=int)\n",
    "# f_top16['Ranking']=pd.DataFrame(f_top16['Ranking'], dtype=int)\n",
    "\n",
    "# #Sort by Ranking, Games, Points\n",
    "    \n",
    "# f_top16=f_top16.sort_values(['Ranking', 'Games', 'Points'], ascending=[True, False, False])\n",
    "# f_top16=f_top16.reset_index(drop=True)"
   ]
  },
  {
   "cell_type": "code",
   "execution_count": 2,
   "metadata": {
    "collapsed": false
   },
   "outputs": [],
   "source": [
    "#returns list of challenge matches given list of team names already sorted\n",
    "# assuming challenges are 1v1\n",
    "# start at the ends and pairs them up\n",
    "# can also be used for seeding playoffs\n",
    "\n",
    "def challenge_matches(team_names):\n",
    "    #16 teams (0,1,2... 15)\n",
    "    output = []\n",
    "    for i in range(int(len(team_names)/2)):\n",
    "        output.append(team_names[i] + \" vs \" + team_names[-i-1])\n",
    "    return output"
   ]
  },
  {
   "cell_type": "code",
   "execution_count": 3,
   "metadata": {
    "collapsed": false
   },
   "outputs": [
    {
     "ename": "NameError",
     "evalue": "name 'f_top16' is not defined",
     "output_type": "error",
     "traceback": [
      "\u001b[0;31m---------------------------------------------------------------------------\u001b[0m",
      "\u001b[0;31mNameError\u001b[0m                                 Traceback (most recent call last)",
      "\u001b[0;32m<ipython-input-3-5c0695acbf32>\u001b[0m in \u001b[0;36m<module>\u001b[0;34m()\u001b[0m\n\u001b[1;32m      4\u001b[0m     \u001b[1;32mreturn\u001b[0m \u001b[0mdf\u001b[0m\u001b[1;33m.\u001b[0m\u001b[0miloc\u001b[0m\u001b[1;33m[\u001b[0m\u001b[0mn\u001b[0m\u001b[1;33m-\u001b[0m\u001b[1;36m4\u001b[0m\u001b[1;33m:\u001b[0m\u001b[0mn\u001b[0m\u001b[1;33m]\u001b[0m\u001b[1;33m[\u001b[0m\u001b[1;34m'Team'\u001b[0m\u001b[1;33m]\u001b[0m\u001b[1;33m\u001b[0m\u001b[0m\n\u001b[1;32m      5\u001b[0m \u001b[1;33m\u001b[0m\u001b[0m\n\u001b[0;32m----> 6\u001b[0;31m \u001b[0mf_LF\u001b[0m \u001b[1;33m=\u001b[0m \u001b[0mlast_four\u001b[0m\u001b[1;33m(\u001b[0m\u001b[0mf_top16\u001b[0m\u001b[1;33m)\u001b[0m\u001b[1;33m\u001b[0m\u001b[0m\n\u001b[0m\u001b[1;32m      7\u001b[0m \u001b[0mprint\u001b[0m\u001b[1;33m(\u001b[0m\u001b[0mchallenge_matches\u001b[0m\u001b[1;33m(\u001b[0m\u001b[0mf_LF\u001b[0m\u001b[1;33m)\u001b[0m\u001b[1;33m)\u001b[0m\u001b[1;33m\u001b[0m\u001b[0m\n",
      "\u001b[0;31mNameError\u001b[0m: name 'f_top16' is not defined"
     ]
    }
   ],
   "source": [
    "# Select the last four of a sorted DataFrame\n",
    "def last_four(df):\n",
    "    n = len(df)\n",
    "    return df.iloc[n-4:n]['Team']\n",
    "\n",
    "f_LF = last_four(f_top16)\n",
    "print(challenge_matches(f_LF))"
   ]
  },
  {
   "cell_type": "code",
   "execution_count": null,
   "metadata": {
    "collapsed": false
   },
   "outputs": [],
   "source": [
    "teams = ['a', 'b', 'c', 'd', 'e', 'f', 'g', 'h',\n",
    "        'i', 'j', 'k', 'l', 'm','n','o','p']\n",
    "\n",
    "print(challenge_matches(teams))"
   ]
  },
  {
   "cell_type": "code",
   "execution_count": 4,
   "metadata": {
    "collapsed": false
   },
   "outputs": [],
   "source": [
    "# function to finalize pools for 2nd Round\n",
    "# input: list of team names (sorted by ranking), desired shape\n",
    "\n",
    "import numpy as np\n",
    "import pandas as pd\n",
    "\n",
    "def snaked_teams(team_names, rows=4, cols=4):\n",
    "    #check for correct size\n",
    "    if len(team_names) != rows * cols:\n",
    "        print (\"Shape size mismatch. Cannot perform this function for \" + str(len(team_names)) + \" teams with a \" \n",
    "               + str(rows) + \" x \" + str(cols) + \" matrix\")\n",
    "        return None\n",
    "    \n",
    "    output = []\n",
    "    \n",
    "    for i in range(rows):\n",
    "        row = team_names[:cols]\n",
    "        if i % 2 == 1:\n",
    "            row.reverse()\n",
    "            \n",
    "        output.append(row)\n",
    "        \n",
    "        team_names=team_names[cols:]\n",
    "\n",
    "    return pd.DataFrame(output, columns=['Pool 1', 'Pool 2', 'Pool 3', 'Pool 4']) # need to start index at 1 not zero\n",
    "        "
   ]
  },
  {
   "cell_type": "code",
   "execution_count": 6,
   "metadata": {
    "collapsed": false
   },
   "outputs": [],
   "source": [
    "from ReadWriteGDocs import write_gdoc_cell\n",
    "\n",
    "m_top16_snaked = snaked_teams(list(m_top16['Team']))\n",
    "#f_top16_snaked = snaked_teams(list(f_top16['Team'])))\n",
    "\n",
    "for index,row in m_top16_snaked.iterrows():\n",
    "    for i in range(len(row)):\n",
    "        write_gdoc_cell(row[i], output_ws[0], \"Men's Gold\", index+4, i+2)\n",
    "\n",
    "# for index,row in f_top16_snaked.iterrows():\n",
    "#     for i in range(len(row)):\n",
    "#         write_gdoc_cell(row[i], output_ws[0], \"Women's Gold\", index+4, i+2)"
   ]
  },
  {
   "cell_type": "code",
   "execution_count": 145,
   "metadata": {
    "collapsed": true
   },
   "outputs": [],
   "source": [
    "def __main__():\n",
    "    pass"
   ]
  }
 ],
 "metadata": {
  "anaconda-cloud": {},
  "kernelspec": {
   "display_name": "Python [conda root]",
   "language": "python",
   "name": "conda-root-py"
  },
  "language_info": {
   "codemirror_mode": {
    "name": "ipython",
    "version": 3
   },
   "file_extension": ".py",
   "mimetype": "text/x-python",
   "name": "python",
   "nbconvert_exporter": "python",
   "pygments_lexer": "ipython3",
   "version": "3.5.2"
  }
 },
 "nbformat": 4,
 "nbformat_minor": 1
}
