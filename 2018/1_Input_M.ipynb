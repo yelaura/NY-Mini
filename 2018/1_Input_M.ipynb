{
 "cells": [
  {
   "cell_type": "code",
   "execution_count": 2,
   "metadata": {},
   "outputs": [],
   "source": [
    "from ReadWriteGDocs import write_gdoc, read_gdoc_range, write_gdoc_cell\n",
    "# write_gdoc(data, ws_name, sht_name, row, col)\n",
    "# read_gdoc_range(ws_name,sht_name=\"Sheet1\",startrow=1,startcol=1, endrow=1, endcol=1)\n",
    "\n",
    "import pandas as pd\n",
    "import numpy as np\n",
    "\n",
    "input_ws = [\"NY Mini 2018 Score Input - Men's (Responses)\", \"NY Mini 2018 Score Input - Women's (Responses)\"]\n",
    "output_ws = [\"NY Mini 2018 - 1st Round\", \"NY Mini 2018 - 2nd Round\"]\n",
    "\n",
    "c=read_gdoc_range(input_ws[1], \"Form Responses 1\", 1,2,1,12)\n",
    "c=c[0]"
   ]
  },
  {
   "cell_type": "markdown",
   "metadata": {},
   "source": [
    "Read data from Form Responses\n",
    "\n",
    "Write to corresponding GDocs\n",
    "\n",
    "First, figure out what order to write the scores.\n",
    "Then, write the scores."
   ]
  },
  {
   "cell_type": "code",
   "execution_count": 6,
   "metadata": {},
   "outputs": [],
   "source": [
    "# start processing from row 2\n",
    "# keep track of rows processed using processed\n",
    "\n",
    "processed = 0"
   ]
  },
  {
   "cell_type": "code",
   "execution_count": 7,
   "metadata": {},
   "outputs": [
    {
     "name": "stdout",
     "output_type": "stream",
     "text": [
      "Number of records processed (men's): 0\n",
      "Total Processed: 0\n"
     ]
    }
   ],
   "source": [
    "m_in = pd.DataFrame(read_gdoc_range(input_ws[0], \"Form Responses 1\", processed + 2,2, 100, 12), \n",
    "                    columns=c)\n",
    "m_in.replace('', np.nan, inplace=True)\n",
    "m_in.dropna(inplace=True, how='all')\n",
    "\n",
    "from math import isnan\n",
    "\n",
    "for index,row in m_in.iterrows():\n",
    "    sheet = \"CT\" + str(row['Court Number'])\n",
    "    game = int(row['Game Number'])\n",
    "    \n",
    "    print(\"Processing \" + sheet + \" \" + str(game))\n",
    "    \n",
    "    T1 = row['Team 1 Name']\n",
    "    \n",
    "    scores = np.array([row['Team 1 Score'], 0, 0, row['Team 2 Score']])\n",
    "    scores = np.append(scores,[0, row['Team 1 Score 2'], 0, 0, row['Team 2 Score 2']])\n",
    "        \n",
    "    #read game team name (first one only)\n",
    "    \n",
    "    team_names = read_gdoc_range(output_ws[0], sheet, 13+game, 3, 13+game, 3)\n",
    "    \n",
    "    if T1 != team_names[0][0]:\n",
    "        scores = scores[::-1]\n",
    "            \n",
    "    for i in range(len(scores)):\n",
    "        write_gdoc_cell(scores[i], output_ws[0], sheet, 13+game, 17+i)\n",
    "        \n",
    "print(\"Number of records processed (men's): \" + str(len(m_in)))\n",
    "\n",
    "processed = processed + len(m_in)\n",
    "\n",
    "print(\"Total Processed: \" + str(processed))"
   ]
  },
  {
   "cell_type": "code",
   "execution_count": null,
   "metadata": {
    "collapsed": true
   },
   "outputs": [],
   "source": []
  }
 ],
 "metadata": {
  "anaconda-cloud": {},
  "kernelspec": {
   "display_name": "Python 3",
   "language": "python",
   "name": "python3"
  },
  "language_info": {
   "codemirror_mode": {
    "name": "ipython",
    "version": 3
   },
   "file_extension": ".py",
   "mimetype": "text/x-python",
   "name": "python",
   "nbconvert_exporter": "python",
   "pygments_lexer": "ipython3",
   "version": "3.6.6"
  }
 },
 "nbformat": 4,
 "nbformat_minor": 1
}
