{
 "cells": [
  {
   "cell_type": "code",
   "execution_count": 3,
   "metadata": {
    "collapsed": true
   },
   "outputs": [],
   "source": [
    "import numpy as np"
   ]
  },
  {
   "cell_type": "markdown",
   "metadata": {},
   "source": [
    "1. Create tournament\n",
    "2. Determine overall rank (games won, points). If pools are uneven, then game ratio and point ratio\n",
    "3. Determine pools for each bracket"
   ]
  },
  {
   "cell_type": "code",
   "execution_count": 5,
   "metadata": {
    "collapsed": true
   },
   "outputs": [],
   "source": [
    "class tourney():\n",
    "    def __init__(self, pools, brackets, pool_size=4):\n",
    "        self.pools = pools #input: list of pool objects that belong to this tourney\n",
    "        self.brackets = brackets #list with three ints - e.g [16,16,32] for number of brackets and how many teams in each\n",
    "        self.pool_size = pool_size # int with number of teams in each pool\n",
    "        self.rankings = [] # overall rankings from all the pools within this tourney\n",
    "        self.gold = [] # teams in the gold bracket. Teams in the same bracket pools are in the same COLUMN\n",
    "        self.silver = [] # teams in the silver bracket\n",
    "        self.bronze = [] # teams in the bronze bracket\n",
    "        \n",
    "    # populates team names, games_won, and points for overall rankings\n",
    "    def get_overall_rankings(self): \n",
    "        \n",
    "        # if pools are even then return games won and points\n",
    "        # if pools are not even then return games ratio and point ratio\n",
    "        \n",
    "        \n",
    "                \n",
    "        for pool in self.pools:\n",
    "            self.rankings.append(pool.get_sorted_rankings)\n",
    "            \n",
    "        self.rankings = sorted(self.rankings_sorted, key=itemgetter(2,3), reverse=True)\n",
    "        \n",
    "    # fills all three brackets\n",
    "    def fill_bracket(self): #determine all bracket results\n",
    "        pass\n",
    "        #fill up the arrays in order, then transpose every other row\n",
    "        for i in np.arange(1,len(self.rankings),self.brackets[0]/self.pool_size):\n",
    "            pass\n",
    "    \n",
    "    # pretty prints brackets \n",
    "    # if bracket=0 then all brackets are printed\n",
    "    # if bracket=\"gold\" or \"silver\" or \"bronze\" then only that bracket is printed\n",
    "    def pp_bracket(self, bracket=0):\n",
    "        if bracket == 0:\n",
    "            print(self.rankings)\n",
    "    ##need another way to print bracket visually. also need to track bracket info using ANOTHER set of pools and tourneys\n",
    "    # save as .py and import module to use these classes and methods"
   ]
  },
  {
   "cell_type": "code",
   "execution_count": null,
   "metadata": {
    "collapsed": true
   },
   "outputs": [],
   "source": []
  }
 ],
 "metadata": {
  "anaconda-cloud": {},
  "kernelspec": {
   "display_name": "Python [conda root]",
   "language": "python",
   "name": "conda-root-py"
  },
  "language_info": {
   "codemirror_mode": {
    "name": "ipython",
    "version": 3
   },
   "file_extension": ".py",
   "mimetype": "text/x-python",
   "name": "python",
   "nbconvert_exporter": "python",
   "pygments_lexer": "ipython3",
   "version": "3.5.2"
  }
 },
 "nbformat": 4,
 "nbformat_minor": 1
}
