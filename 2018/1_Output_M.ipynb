{
 "cells": [
  {
   "cell_type": "markdown",
   "metadata": {},
   "source": [
    "Day 1 Output:\n",
    "\n",
    "Determine which teams go into which pools\n",
    "Write the results to the pool masters\n",
    "\n",
    "Men's: \n",
    "\n",
    "Top 2 teams from each pool go into Gold, and best 2 teams of 3rd places (Total: 20, 5 teams x 4 pools)\n",
    "Next 15 teams go into Silver (Total: 15, 5 teams x 3 pools)\n",
    "Next 10 go into Bronze (2 pools x 5 teams)\n",
    "\n",
    "Women's:\n",
    "\n",
    "Top 2 teams from each pool go into Gold, and best 2 teams of 3rd places (Total: 20, 5 teams x 4 pools)\n",
    "Next 15 teams go into Silver (Total: 15, 5 teams x 3 pools)\n",
    "Next 10 go into Bronze (2 pools x 5 teams, single match to 30 then single elim)\n"
   ]
  },
  {
   "cell_type": "code",
   "execution_count": 1,
   "metadata": {},
   "outputs": [],
   "source": [
    "# function to finalize pools for 2nd Round\n",
    "# input: list of team names (sorted by ranking), desired shape\n",
    "\n",
    "import numpy as np\n",
    "import pandas as pd\n",
    "\n",
    "num_pools = 9\n",
    "\n",
    "# Retrieve pool rankings (Court names are in M1, W1,...)\n",
    "# m_pools = ['M' + str(i) for i in range(1,num_pools)]\n",
    "# f_pools = ['W' + str(i) for i in range(1,num_pools)]\n",
    "\n",
    "m_pools = ['01', '02', '03', '04', '07', '08', '12', '13', '14']\n",
    "f_pools = ['05', '06', '09', '10', '11', '15', '16', '17', '18']\n",
    "\n",
    "input_ws = [\"NY Mini 2018 - 1st Round\"]\n",
    "output_ws = [\"GOLD NY Mini 2018 - Day 2 Pools\", \"SILVER NY Mini 2018 - Day 2 Pools\", \"BRONZE NY Mini 2018 - Day 2 Pools\"]\n",
    "\n",
    "# rewrite so rows and cols are variable\n",
    "def snaked_teams(team_names, rows=4, cols=4):\n",
    "    #check for correct size\n",
    "    if len(team_names) != rows * cols:\n",
    "        print (\"Shape size mismatch. Cannot perform this function for \" + str(len(team_names)) + \" teams with a \" \n",
    "               + str(rows) + \" x \" + str(cols) + \" matrix\")\n",
    "        return None\n",
    "    \n",
    "    output = []\n",
    "    \n",
    "    for i in range(rows):\n",
    "        row = team_names[:cols]\n",
    "        if i % 2 == 1:\n",
    "            row.reverse()\n",
    "            \n",
    "        output.append(row)\n",
    "        \n",
    "        team_names=team_names[cols:]\n",
    "\n",
    "    return pd.DataFrame(output) # need to start index at 1 not zero"
   ]
  },
  {
   "cell_type": "markdown",
   "metadata": {},
   "source": [
    "Run code below to populate Day 2 Men's Gold, Silver, Bronze Brackets (mens_raw for overall)"
   ]
  },
  {
   "cell_type": "code",
   "execution_count": 12,
   "metadata": {},
   "outputs": [
    {
     "name": "stdout",
     "output_type": "stream",
     "text": [
      "Finished Men's Gold Bracket\n",
      "Finished Men's Silver Bracket\n",
      "Finished Men's Bronze Bracket\n"
     ]
    }
   ],
   "source": [
    "# Data Frame Construction: (Need this info)\n",
    "# Pool #, Placement, Team Name, Games (Ratio), Points (Ratio)\n",
    "\n",
    "import pandas as pd\n",
    "from ReadWriteGDocs import write_gdoc, read_gdoc_range, write_gdoc_cell\n",
    "\n",
    "mens_raw = pd.DataFrame()\n",
    "c=['Ranking', 'Team', 'Games', 'Points']\n",
    "\n",
    "#Grab data from GDOC\n",
    "for i in m_pools:\n",
    "    df=pd.DataFrame(read_gdoc_range(input_ws[0], \"CT\" + i + \" (M)\", 27, 2, 31,5), columns=c)\n",
    "    df.insert(0, 'Pool', i)\n",
    "    mens_raw=mens_raw.append(df)\n",
    "\n",
    "#Convert dtype so the sorting is accurate\n",
    "    \n",
    "mens_raw['Games']=pd.DataFrame(mens_raw['Games'], dtype=int)\n",
    "mens_raw['Points']=pd.DataFrame(mens_raw['Points'], dtype=int)\n",
    "mens_raw['Ranking']=pd.DataFrame(mens_raw['Ranking'], dtype=int)\n",
    "mens_raw=mens_raw.sort_values(['Ranking', 'Games', 'Points'], ascending=[True, False, False])\n",
    "mens_raw=mens_raw.reset_index(drop=True)\n",
    "\n",
    "# Form the Gold, Silver Bronze teams\n",
    "\n",
    "m_gold = mens_temp.iloc[range(1,21)]\n",
    "m_silver = mens_raw.iloc[range(21,36)]\n",
    "m_bronze = mens_raw.iloc[range(36,len(mens_raw))]\n",
    "\n",
    "m_gold.reset_index(drop=True)\n",
    "m_silver.reset_index(drop=True)\n",
    "m_bronze.reset_index(drop=True)\n",
    "\n",
    "# form snaked teams\n",
    "\n",
    "m_gold_snaked = snaked_teams(list(m_gold['Team']), 5, 4)\n",
    "m_silver_snaked = snaked_teams(list(m_silver['Team']), 5, 3)\n",
    "m_bronze_snaked = snaked_teams(list(m_bronze['Team']), 5, 2)\n",
    "\n",
    "# write snaked teams to gdoc\n",
    "for index,row in m_gold_snaked.iterrows():\n",
    "    for i in range(len(row)):\n",
    "        write_gdoc_cell(row[i], output_ws[0], \"Men's Gold\", index+4, i+2)\n",
    "        \n",
    "print(\"Finished Men's Gold Pool\")\n",
    "        \n",
    "for index,row in m_silver_snaked.iterrows():\n",
    "    for i in range(len(row)):\n",
    "        write_gdoc_cell(row[i], output_ws[1], \"Men's Silver\", index+4, i+2)\n",
    "        \n",
    "print(\"Finished Men's Silver Pool\")\n",
    "        \n",
    "for index,row in m_bronze_snaked.iterrows():\n",
    "    for i in range(len(row)):\n",
    "        write_gdoc_cell(row[i], output_ws[2], \"Men's Bronze\", index+4, i+2)\n",
    "        \n",
    "print(\"Finished Men's Bronze Pool\")"
   ]
  },
  {
   "cell_type": "markdown",
   "metadata": {
    "collapsed": true
   },
   "source": [
    "Check your work.\n",
    "\n",
    "Make sure there's 20 teams in GOLD, 15 teams in SILVER, 10 teams in BRONZE"
   ]
  },
  {
   "cell_type": "code",
   "execution_count": null,
   "metadata": {},
   "outputs": [],
   "source": [
    "print(len(m_gold))\n",
    "print(len(m_silver))\n",
    "print(len(m_bronze))"
   ]
  }
 ],
 "metadata": {
  "anaconda-cloud": {},
  "kernelspec": {
   "display_name": "Python 3",
   "language": "python",
   "name": "python3"
  },
  "language_info": {
   "codemirror_mode": {
    "name": "ipython",
    "version": 3
   },
   "file_extension": ".py",
   "mimetype": "text/x-python",
   "name": "python",
   "nbconvert_exporter": "python",
   "pygments_lexer": "ipython3",
   "version": "3.6.6"
  }
 },
 "nbformat": 4,
 "nbformat_minor": 1
}
