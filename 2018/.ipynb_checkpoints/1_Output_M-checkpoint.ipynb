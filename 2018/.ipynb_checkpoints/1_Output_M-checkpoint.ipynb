{
 "cells": [
  {
   "cell_type": "markdown",
   "metadata": {},
   "source": [
    "Day 1 Output:\n",
    "\n",
    "Determine which teams go into which pools\n",
    "Write the results to the pool masters\n",
    "\n",
    "Men's: \n",
    "\n",
    "Top 2 teams from each pool go into Gold, and best 2 teams of 3rd places (Total: 20, 5 teams x 4 pools)\n",
    "Next 15 teams go into Silver (Total: 15, 5 teams x 3 pools)\n",
    "Next 10 go into Bronze (2 pools x 5 teams)\n",
    "\n",
    "Women's:\n",
    "\n",
    "Top 2 teams from each pool go into Gold, and best 2 teams of 3rd places (Total: 20, 5 teams x 4 pools)\n",
    "Next 15 teams go into Silver (Total: 15, 5 teams x 3 pools)\n",
    "Next 10 go into Bronze (2 pools x 5 teams, single match to 30 then single elim)\n"
   ]
  },
  {
   "cell_type": "code",
   "execution_count": 1,
   "metadata": {},
   "outputs": [],
   "source": [
    "# function to finalize pools for 2nd Round\n",
    "# input: list of team names (sorted by ranking), desired shape\n",
    "\n",
    "import numpy as np\n",
    "import pandas as pd\n",
    "\n",
    "# Retrieve pool rankings (Court names are in M1, W1,...)\n",
    "# num_pools = 9\n",
    "# m_pools = ['M' + str(i) for i in range(1,num_pools)]\n",
    "# f_pools = ['W' + str(i) for i in range(1,num_pools)]\n",
    "\n",
    "m_pools = ['01', '02', '03', '04', '07', '08', '12', '13', '14']\n",
    "f_pools = ['05', '06', '09', '10', '11', '15', '16', '17', '18']\n",
    "\n",
    "input_ws = [\"NY Mini 2018 - 1st Round\"]\n",
    "output_ws = [\"NY Mini 2018 - Day 2 Pools\"]"
   ]
  },
  {
   "cell_type": "markdown",
   "metadata": {},
   "source": [
    "Run code below to populate Day 2 Men's Gold, Silver, Bronze Brackets (mens_raw for overall)"
   ]
  },
  {
   "cell_type": "code",
   "execution_count": 3,
   "metadata": {},
   "outputs": [],
   "source": [
    "# Data Frame Construction: (Need this info)\n",
    "# Pool #, Placement, Team Name, Games (Ratio), Points (Ratio)\n",
    "\n",
    "import pandas as pd\n",
    "from ReadWriteGDocs import write_gdoc, read_gdoc_range, write_gdoc_cell\n",
    "\n",
    "mens_raw = pd.DataFrame()\n",
    "c=['Ranking', 'Team', 'Games', 'Points']\n",
    "\n",
    "#Grab data from GDOC\n",
    "for i in m_pools:\n",
    "    df=pd.DataFrame(read_gdoc_range(input_ws[0], \"CT\" + i + \" (M)\", 27, 2, 31,5), columns=c)\n",
    "    df.insert(0, 'Pool', i)\n",
    "    mens_raw=mens_raw.append(df)\n",
    "\n",
    "#Convert dtype so the sorting is accurate\n",
    "    \n",
    "mens_raw['Games']=pd.DataFrame(mens_raw['Games'], dtype=int)\n",
    "mens_raw['Points']=pd.DataFrame(mens_raw['Points'], dtype=int)\n",
    "mens_raw['Ranking']=pd.DataFrame(mens_raw['Ranking'], dtype=int)\n",
    "mens_raw=mens_raw.sort_values(['Ranking', 'Games', 'Points'], ascending=[True, False, False])\n",
    "mens_raw=mens_raw.reset_index(drop=True)\n",
    "\n",
    "# Form the Gold, Silver Bronze teams\n",
    "\n",
    "m_gold = mens_raw.iloc[range(0,18)]\n",
    "m_silver = mens_raw.iloc[range(18,36)]\n",
    "m_bronze = mens_raw.iloc[range(36,len(mens_raw))]\n",
    "\n",
    "m_gold.reset_index(drop=True)\n",
    "m_silver=m_silver.reset_index(drop=True)\n",
    "m_bronze=m_bronze.reset_index(drop=True)"
   ]
  },
  {
   "cell_type": "markdown",
   "metadata": {
    "collapsed": true
   },
   "source": [
    "Check your work.\n",
    "\n",
    "Make sure there's 20 teams in GOLD, 15 teams in SILVER, 10 teams in BRONZE"
   ]
  },
  {
   "cell_type": "code",
   "execution_count": 4,
   "metadata": {},
   "outputs": [
    {
     "name": "stdout",
     "output_type": "stream",
     "text": [
      "18\n",
      "18\n",
      "9\n"
     ]
    }
   ],
   "source": [
    "print(len(m_gold))\n",
    "print(len(m_silver))\n",
    "print(len(m_bronze))"
   ]
  },
  {
   "cell_type": "markdown",
   "metadata": {},
   "source": [
    "Finished forming gold, silver, bronze brackets\n",
    "\n",
    "Output to google docs"
   ]
  },
  {
   "cell_type": "code",
   "execution_count": null,
   "metadata": {},
   "outputs": [],
   "source": [
    "for index,row in m_gold.iterrows():\n",
    "    for i in range(len(m_gold.columns)):\n",
    "        write_gdoc_cell(row[m_gold.columns[i]], output_ws[0], \"Men's GOLD\", index+4, 2+i)\n",
    "\n",
    "print(\"Finished with Men's Gold\")\n",
    "\n",
    "for index,row in m_silver.iterrows():\n",
    "    for i in range(len(m_silver.columns)):\n",
    "        write_gdoc_cell(row[m_silver.columns[i]], output_ws[0], \"Men's SILVER\", index+4, 2+i)\n",
    "\n",
    "print(\"Finished with Men's Silver\")\n",
    "\n",
    "for index,row in m_bronze.iterrows():\n",
    "    for i in range(len(m_bronze.columns)):\n",
    "        write_gdoc_cell(row[m_bronze.columns[i]], output_ws[0], \"Men's BRONZE\", index+4, 2+i)\n",
    "\n",
    "print(\"Finished with Men's Bronze\")"
   ]
  },
  {
   "cell_type": "code",
   "execution_count": 7,
   "metadata": {},
   "outputs": [
    {
     "data": {
      "text/html": [
       "<div>\n",
       "<style scoped>\n",
       "    .dataframe tbody tr th:only-of-type {\n",
       "        vertical-align: middle;\n",
       "    }\n",
       "\n",
       "    .dataframe tbody tr th {\n",
       "        vertical-align: top;\n",
       "    }\n",
       "\n",
       "    .dataframe thead th {\n",
       "        text-align: right;\n",
       "    }\n",
       "</style>\n",
       "<table border=\"1\" class=\"dataframe\">\n",
       "  <thead>\n",
       "    <tr style=\"text-align: right;\">\n",
       "      <th></th>\n",
       "      <th>Pool</th>\n",
       "      <th>Ranking</th>\n",
       "      <th>Team</th>\n",
       "      <th>Games</th>\n",
       "      <th>Points</th>\n",
       "    </tr>\n",
       "  </thead>\n",
       "  <tbody>\n",
       "    <tr>\n",
       "      <th>0</th>\n",
       "      <td>13</td>\n",
       "      <td>5</td>\n",
       "      <td>BOS Knights C</td>\n",
       "      <td>2</td>\n",
       "      <td>-20</td>\n",
       "    </tr>\n",
       "    <tr>\n",
       "      <th>1</th>\n",
       "      <td>08</td>\n",
       "      <td>5</td>\n",
       "      <td>NJ Just CIA</td>\n",
       "      <td>2</td>\n",
       "      <td>-33</td>\n",
       "    </tr>\n",
       "    <tr>\n",
       "      <th>2</th>\n",
       "      <td>07</td>\n",
       "      <td>5</td>\n",
       "      <td>NY Strangers LoChai</td>\n",
       "      <td>1</td>\n",
       "      <td>-51</td>\n",
       "    </tr>\n",
       "    <tr>\n",
       "      <th>3</th>\n",
       "      <td>03</td>\n",
       "      <td>5</td>\n",
       "      <td>BOS Knights X</td>\n",
       "      <td>1</td>\n",
       "      <td>-53</td>\n",
       "    </tr>\n",
       "    <tr>\n",
       "      <th>4</th>\n",
       "      <td>14</td>\n",
       "      <td>5</td>\n",
       "      <td>NY Impact</td>\n",
       "      <td>1</td>\n",
       "      <td>-55</td>\n",
       "    </tr>\n",
       "    <tr>\n",
       "      <th>5</th>\n",
       "      <td>02</td>\n",
       "      <td>5</td>\n",
       "      <td>BOS Freemason</td>\n",
       "      <td>0</td>\n",
       "      <td>-52</td>\n",
       "    </tr>\n",
       "    <tr>\n",
       "      <th>6</th>\n",
       "      <td>04</td>\n",
       "      <td>5</td>\n",
       "      <td>NY Horizon</td>\n",
       "      <td>0</td>\n",
       "      <td>-67</td>\n",
       "    </tr>\n",
       "    <tr>\n",
       "      <th>7</th>\n",
       "      <td>12</td>\n",
       "      <td>5</td>\n",
       "      <td>Philly CIA Jrs.</td>\n",
       "      <td>0</td>\n",
       "      <td>-77</td>\n",
       "    </tr>\n",
       "    <tr>\n",
       "      <th>8</th>\n",
       "      <td>01</td>\n",
       "      <td>5</td>\n",
       "      <td>Wash DC CYC C</td>\n",
       "      <td>0</td>\n",
       "      <td>-102</td>\n",
       "    </tr>\n",
       "  </tbody>\n",
       "</table>\n",
       "</div>"
      ],
      "text/plain": [
       "  Pool  Ranking                 Team  Games  Points\n",
       "0   13        5        BOS Knights C      2     -20\n",
       "1   08        5          NJ Just CIA      2     -33\n",
       "2   07        5  NY Strangers LoChai      1     -51\n",
       "3   03        5        BOS Knights X      1     -53\n",
       "4   14        5            NY Impact      1     -55\n",
       "5   02        5        BOS Freemason      0     -52\n",
       "6   04        5           NY Horizon      0     -67\n",
       "7   12        5      Philly CIA Jrs.      0     -77\n",
       "8   01        5        Wash DC CYC C      0    -102"
      ]
     },
     "execution_count": 7,
     "metadata": {},
     "output_type": "execute_result"
    }
   ],
   "source": [
    "m_bronze"
   ]
  }
 ],
 "metadata": {
  "anaconda-cloud": {},
  "kernelspec": {
   "display_name": "Python 3",
   "language": "python",
   "name": "python3"
  },
  "language_info": {
   "codemirror_mode": {
    "name": "ipython",
    "version": 3
   },
   "file_extension": ".py",
   "mimetype": "text/x-python",
   "name": "python",
   "nbconvert_exporter": "python",
   "pygments_lexer": "ipython3",
   "version": "3.6.6"
  }
 },
 "nbformat": 4,
 "nbformat_minor": 1
}
